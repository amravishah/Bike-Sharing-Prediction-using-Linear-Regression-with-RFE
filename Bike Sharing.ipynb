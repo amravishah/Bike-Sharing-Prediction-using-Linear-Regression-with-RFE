{
 "cells": [
  {
   "cell_type": "markdown",
   "metadata": {},
   "source": [
    "# Bike Sharing Assignment"
   ]
  },
  {
   "cell_type": "markdown",
   "metadata": {},
   "source": [
    "## Bussiness Objective \n",
    "\n",
    "You are required to model the demand for shared bikes with the available independent variables. It will be used by the management to understand how exactly the demands vary with different features. They can accordingly manipulate the business strategy to meet the demand levels and meet the customer's expectations. Further, the model will be a good way for management to understand the demand dynamics of a new market. "
   ]
  },
  {
   "cell_type": "markdown",
   "metadata": {},
   "source": [
    "## Reading the data"
   ]
  },
  {
   "cell_type": "code",
   "execution_count": 94,
   "metadata": {},
   "outputs": [],
   "source": [
    "#import the required libraries\n",
    "import pandas as pd\n",
    "import numpy as np\n",
    "import matplotlib.pyplot as plt\n",
    "import seaborn as sns\n",
    "\n",
    "#supress the warnings\n",
    "import warnings \n",
    "warnings.filterwarnings('ignore')"
   ]
  },
  {
   "cell_type": "code",
   "execution_count": 95,
   "metadata": {},
   "outputs": [],
   "source": [
    "from sklearn.preprocessing import MinMaxScaler\n",
    "from sklearn.model_selection import train_test_split\n",
    "from sklearn.feature_selection import RFE\n",
    "from sklearn.linear_model import LinearRegression\n",
    "from sklearn.metrics import r2_score\n",
    "\n",
    "import statsmodels.api as sm\n",
    "from statsmodels.stats.outliers_influence import variance_inflation_factor\n"
   ]
  },
  {
   "cell_type": "code",
   "execution_count": 96,
   "metadata": {},
   "outputs": [
    {
     "data": {
      "text/html": [
       "<div>\n",
       "<style scoped>\n",
       "    .dataframe tbody tr th:only-of-type {\n",
       "        vertical-align: middle;\n",
       "    }\n",
       "\n",
       "    .dataframe tbody tr th {\n",
       "        vertical-align: top;\n",
       "    }\n",
       "\n",
       "    .dataframe thead th {\n",
       "        text-align: right;\n",
       "    }\n",
       "</style>\n",
       "<table border=\"1\" class=\"dataframe\">\n",
       "  <thead>\n",
       "    <tr style=\"text-align: right;\">\n",
       "      <th></th>\n",
       "      <th>instant</th>\n",
       "      <th>dteday</th>\n",
       "      <th>season</th>\n",
       "      <th>yr</th>\n",
       "      <th>mnth</th>\n",
       "      <th>holiday</th>\n",
       "      <th>weekday</th>\n",
       "      <th>workingday</th>\n",
       "      <th>weathersit</th>\n",
       "      <th>temp</th>\n",
       "      <th>atemp</th>\n",
       "      <th>hum</th>\n",
       "      <th>windspeed</th>\n",
       "      <th>casual</th>\n",
       "      <th>registered</th>\n",
       "      <th>cnt</th>\n",
       "    </tr>\n",
       "  </thead>\n",
       "  <tbody>\n",
       "    <tr>\n",
       "      <th>0</th>\n",
       "      <td>1</td>\n",
       "      <td>01-01-2018</td>\n",
       "      <td>1</td>\n",
       "      <td>0</td>\n",
       "      <td>1</td>\n",
       "      <td>0</td>\n",
       "      <td>6</td>\n",
       "      <td>0</td>\n",
       "      <td>2</td>\n",
       "      <td>14.110847</td>\n",
       "      <td>18.18125</td>\n",
       "      <td>80.5833</td>\n",
       "      <td>10.749882</td>\n",
       "      <td>331</td>\n",
       "      <td>654</td>\n",
       "      <td>985</td>\n",
       "    </tr>\n",
       "    <tr>\n",
       "      <th>1</th>\n",
       "      <td>2</td>\n",
       "      <td>02-01-2018</td>\n",
       "      <td>1</td>\n",
       "      <td>0</td>\n",
       "      <td>1</td>\n",
       "      <td>0</td>\n",
       "      <td>0</td>\n",
       "      <td>0</td>\n",
       "      <td>2</td>\n",
       "      <td>14.902598</td>\n",
       "      <td>17.68695</td>\n",
       "      <td>69.6087</td>\n",
       "      <td>16.652113</td>\n",
       "      <td>131</td>\n",
       "      <td>670</td>\n",
       "      <td>801</td>\n",
       "    </tr>\n",
       "    <tr>\n",
       "      <th>2</th>\n",
       "      <td>3</td>\n",
       "      <td>03-01-2018</td>\n",
       "      <td>1</td>\n",
       "      <td>0</td>\n",
       "      <td>1</td>\n",
       "      <td>0</td>\n",
       "      <td>1</td>\n",
       "      <td>1</td>\n",
       "      <td>1</td>\n",
       "      <td>8.050924</td>\n",
       "      <td>9.47025</td>\n",
       "      <td>43.7273</td>\n",
       "      <td>16.636703</td>\n",
       "      <td>120</td>\n",
       "      <td>1229</td>\n",
       "      <td>1349</td>\n",
       "    </tr>\n",
       "    <tr>\n",
       "      <th>3</th>\n",
       "      <td>4</td>\n",
       "      <td>04-01-2018</td>\n",
       "      <td>1</td>\n",
       "      <td>0</td>\n",
       "      <td>1</td>\n",
       "      <td>0</td>\n",
       "      <td>2</td>\n",
       "      <td>1</td>\n",
       "      <td>1</td>\n",
       "      <td>8.200000</td>\n",
       "      <td>10.60610</td>\n",
       "      <td>59.0435</td>\n",
       "      <td>10.739832</td>\n",
       "      <td>108</td>\n",
       "      <td>1454</td>\n",
       "      <td>1562</td>\n",
       "    </tr>\n",
       "    <tr>\n",
       "      <th>4</th>\n",
       "      <td>5</td>\n",
       "      <td>05-01-2018</td>\n",
       "      <td>1</td>\n",
       "      <td>0</td>\n",
       "      <td>1</td>\n",
       "      <td>0</td>\n",
       "      <td>3</td>\n",
       "      <td>1</td>\n",
       "      <td>1</td>\n",
       "      <td>9.305237</td>\n",
       "      <td>11.46350</td>\n",
       "      <td>43.6957</td>\n",
       "      <td>12.522300</td>\n",
       "      <td>82</td>\n",
       "      <td>1518</td>\n",
       "      <td>1600</td>\n",
       "    </tr>\n",
       "  </tbody>\n",
       "</table>\n",
       "</div>"
      ],
      "text/plain": [
       "   instant      dteday  season  yr  mnth  holiday  weekday  workingday  \\\n",
       "0        1  01-01-2018       1   0     1        0        6           0   \n",
       "1        2  02-01-2018       1   0     1        0        0           0   \n",
       "2        3  03-01-2018       1   0     1        0        1           1   \n",
       "3        4  04-01-2018       1   0     1        0        2           1   \n",
       "4        5  05-01-2018       1   0     1        0        3           1   \n",
       "\n",
       "   weathersit       temp     atemp      hum  windspeed  casual  registered  \\\n",
       "0           2  14.110847  18.18125  80.5833  10.749882     331         654   \n",
       "1           2  14.902598  17.68695  69.6087  16.652113     131         670   \n",
       "2           1   8.050924   9.47025  43.7273  16.636703     120        1229   \n",
       "3           1   8.200000  10.60610  59.0435  10.739832     108        1454   \n",
       "4           1   9.305237  11.46350  43.6957  12.522300      82        1518   \n",
       "\n",
       "    cnt  \n",
       "0   985  \n",
       "1   801  \n",
       "2  1349  \n",
       "3  1562  \n",
       "4  1600  "
      ]
     },
     "execution_count": 96,
     "metadata": {},
     "output_type": "execute_result"
    }
   ],
   "source": [
    "#import the dataset\n",
    "day = pd.read_csv('day.csv')\n",
    "day.head()"
   ]
  },
  {
   "cell_type": "code",
   "execution_count": 97,
   "metadata": {},
   "outputs": [],
   "source": [
    "#so that we can see all the rows and columns by scrolling\n",
    "pd.options.display.max_columns= None\n",
    "pd.options.display.max_rows= None"
   ]
  },
  {
   "cell_type": "code",
   "execution_count": null,
   "metadata": {},
   "outputs": [],
   "source": []
  },
  {
   "cell_type": "markdown",
   "metadata": {},
   "source": [
    "## Data Understanding and Cleaning"
   ]
  },
  {
   "cell_type": "code",
   "execution_count": 98,
   "metadata": {},
   "outputs": [],
   "source": [
    "#based on the bussiness objective lets drop the non essential columns\n",
    "\n",
    "#we want to predict the values for cnt, we can drop the casual and registered columns\n",
    "#instant is just an index, so we dont need it\n",
    "#all the important information has been captured from the date column and stored in weekday, holiday, year, mnth and workingday\n",
    "\n",
    "day.drop(['instant','dteday','casual','registered'], axis = 1, inplace = True)"
   ]
  },
  {
   "cell_type": "code",
   "execution_count": 99,
   "metadata": {},
   "outputs": [
    {
     "data": {
      "text/html": [
       "<div>\n",
       "<style scoped>\n",
       "    .dataframe tbody tr th:only-of-type {\n",
       "        vertical-align: middle;\n",
       "    }\n",
       "\n",
       "    .dataframe tbody tr th {\n",
       "        vertical-align: top;\n",
       "    }\n",
       "\n",
       "    .dataframe thead th {\n",
       "        text-align: right;\n",
       "    }\n",
       "</style>\n",
       "<table border=\"1\" class=\"dataframe\">\n",
       "  <thead>\n",
       "    <tr style=\"text-align: right;\">\n",
       "      <th></th>\n",
       "      <th>season</th>\n",
       "      <th>yr</th>\n",
       "      <th>mnth</th>\n",
       "      <th>holiday</th>\n",
       "      <th>weekday</th>\n",
       "      <th>workingday</th>\n",
       "      <th>weathersit</th>\n",
       "      <th>temp</th>\n",
       "      <th>atemp</th>\n",
       "      <th>hum</th>\n",
       "      <th>windspeed</th>\n",
       "      <th>cnt</th>\n",
       "    </tr>\n",
       "  </thead>\n",
       "  <tbody>\n",
       "    <tr>\n",
       "      <th>0</th>\n",
       "      <td>1</td>\n",
       "      <td>0</td>\n",
       "      <td>1</td>\n",
       "      <td>0</td>\n",
       "      <td>6</td>\n",
       "      <td>0</td>\n",
       "      <td>2</td>\n",
       "      <td>14.110847</td>\n",
       "      <td>18.18125</td>\n",
       "      <td>80.5833</td>\n",
       "      <td>10.749882</td>\n",
       "      <td>985</td>\n",
       "    </tr>\n",
       "    <tr>\n",
       "      <th>1</th>\n",
       "      <td>1</td>\n",
       "      <td>0</td>\n",
       "      <td>1</td>\n",
       "      <td>0</td>\n",
       "      <td>0</td>\n",
       "      <td>0</td>\n",
       "      <td>2</td>\n",
       "      <td>14.902598</td>\n",
       "      <td>17.68695</td>\n",
       "      <td>69.6087</td>\n",
       "      <td>16.652113</td>\n",
       "      <td>801</td>\n",
       "    </tr>\n",
       "    <tr>\n",
       "      <th>2</th>\n",
       "      <td>1</td>\n",
       "      <td>0</td>\n",
       "      <td>1</td>\n",
       "      <td>0</td>\n",
       "      <td>1</td>\n",
       "      <td>1</td>\n",
       "      <td>1</td>\n",
       "      <td>8.050924</td>\n",
       "      <td>9.47025</td>\n",
       "      <td>43.7273</td>\n",
       "      <td>16.636703</td>\n",
       "      <td>1349</td>\n",
       "    </tr>\n",
       "    <tr>\n",
       "      <th>3</th>\n",
       "      <td>1</td>\n",
       "      <td>0</td>\n",
       "      <td>1</td>\n",
       "      <td>0</td>\n",
       "      <td>2</td>\n",
       "      <td>1</td>\n",
       "      <td>1</td>\n",
       "      <td>8.200000</td>\n",
       "      <td>10.60610</td>\n",
       "      <td>59.0435</td>\n",
       "      <td>10.739832</td>\n",
       "      <td>1562</td>\n",
       "    </tr>\n",
       "    <tr>\n",
       "      <th>4</th>\n",
       "      <td>1</td>\n",
       "      <td>0</td>\n",
       "      <td>1</td>\n",
       "      <td>0</td>\n",
       "      <td>3</td>\n",
       "      <td>1</td>\n",
       "      <td>1</td>\n",
       "      <td>9.305237</td>\n",
       "      <td>11.46350</td>\n",
       "      <td>43.6957</td>\n",
       "      <td>12.522300</td>\n",
       "      <td>1600</td>\n",
       "    </tr>\n",
       "  </tbody>\n",
       "</table>\n",
       "</div>"
      ],
      "text/plain": [
       "   season  yr  mnth  holiday  weekday  workingday  weathersit       temp  \\\n",
       "0       1   0     1        0        6           0           2  14.110847   \n",
       "1       1   0     1        0        0           0           2  14.902598   \n",
       "2       1   0     1        0        1           1           1   8.050924   \n",
       "3       1   0     1        0        2           1           1   8.200000   \n",
       "4       1   0     1        0        3           1           1   9.305237   \n",
       "\n",
       "      atemp      hum  windspeed   cnt  \n",
       "0  18.18125  80.5833  10.749882   985  \n",
       "1  17.68695  69.6087  16.652113   801  \n",
       "2   9.47025  43.7273  16.636703  1349  \n",
       "3  10.60610  59.0435  10.739832  1562  \n",
       "4  11.46350  43.6957  12.522300  1600  "
      ]
     },
     "execution_count": 99,
     "metadata": {},
     "output_type": "execute_result"
    }
   ],
   "source": [
    "day.head()"
   ]
  },
  {
   "cell_type": "code",
   "execution_count": 100,
   "metadata": {},
   "outputs": [
    {
     "data": {
      "text/plain": [
       "(730, 12)"
      ]
     },
     "execution_count": 100,
     "metadata": {},
     "output_type": "execute_result"
    }
   ],
   "source": [
    "day.shape"
   ]
  },
  {
   "cell_type": "code",
   "execution_count": 101,
   "metadata": {},
   "outputs": [
    {
     "name": "stdout",
     "output_type": "stream",
     "text": [
      "<class 'pandas.core.frame.DataFrame'>\n",
      "RangeIndex: 730 entries, 0 to 729\n",
      "Data columns (total 12 columns):\n",
      " #   Column      Non-Null Count  Dtype  \n",
      "---  ------      --------------  -----  \n",
      " 0   season      730 non-null    int64  \n",
      " 1   yr          730 non-null    int64  \n",
      " 2   mnth        730 non-null    int64  \n",
      " 3   holiday     730 non-null    int64  \n",
      " 4   weekday     730 non-null    int64  \n",
      " 5   workingday  730 non-null    int64  \n",
      " 6   weathersit  730 non-null    int64  \n",
      " 7   temp        730 non-null    float64\n",
      " 8   atemp       730 non-null    float64\n",
      " 9   hum         730 non-null    float64\n",
      " 10  windspeed   730 non-null    float64\n",
      " 11  cnt         730 non-null    int64  \n",
      "dtypes: float64(4), int64(8)\n",
      "memory usage: 68.6 KB\n"
     ]
    }
   ],
   "source": [
    "day.info()"
   ]
  },
  {
   "cell_type": "code",
   "execution_count": 102,
   "metadata": {},
   "outputs": [
    {
     "data": {
      "text/plain": [
       "season        0\n",
       "yr            0\n",
       "mnth          0\n",
       "holiday       0\n",
       "weekday       0\n",
       "workingday    0\n",
       "weathersit    0\n",
       "temp          0\n",
       "atemp         0\n",
       "hum           0\n",
       "windspeed     0\n",
       "cnt           0\n",
       "dtype: int64"
      ]
     },
     "execution_count": 102,
     "metadata": {},
     "output_type": "execute_result"
    }
   ],
   "source": [
    "#lets check if it has any missing values\n",
    "day.isnull().sum()"
   ]
  },
  {
   "cell_type": "code",
   "execution_count": 103,
   "metadata": {},
   "outputs": [
    {
     "data": {
      "text/plain": [
       "season          int64\n",
       "yr              int64\n",
       "mnth            int64\n",
       "holiday         int64\n",
       "weekday         int64\n",
       "workingday      int64\n",
       "weathersit      int64\n",
       "temp          float64\n",
       "atemp         float64\n",
       "hum           float64\n",
       "windspeed     float64\n",
       "cnt             int64\n",
       "dtype: object"
      ]
     },
     "execution_count": 103,
     "metadata": {},
     "output_type": "execute_result"
    }
   ],
   "source": [
    "#lets check the datatypes\n",
    "day.dtypes"
   ]
  },
  {
   "cell_type": "code",
   "execution_count": 104,
   "metadata": {},
   "outputs": [
    {
     "data": {
      "text/html": [
       "<div>\n",
       "<style scoped>\n",
       "    .dataframe tbody tr th:only-of-type {\n",
       "        vertical-align: middle;\n",
       "    }\n",
       "\n",
       "    .dataframe tbody tr th {\n",
       "        vertical-align: top;\n",
       "    }\n",
       "\n",
       "    .dataframe thead th {\n",
       "        text-align: right;\n",
       "    }\n",
       "</style>\n",
       "<table border=\"1\" class=\"dataframe\">\n",
       "  <thead>\n",
       "    <tr style=\"text-align: right;\">\n",
       "      <th></th>\n",
       "      <th>season</th>\n",
       "      <th>yr</th>\n",
       "      <th>mnth</th>\n",
       "      <th>holiday</th>\n",
       "      <th>weekday</th>\n",
       "      <th>workingday</th>\n",
       "      <th>weathersit</th>\n",
       "      <th>temp</th>\n",
       "      <th>atemp</th>\n",
       "      <th>hum</th>\n",
       "      <th>windspeed</th>\n",
       "      <th>cnt</th>\n",
       "    </tr>\n",
       "  </thead>\n",
       "  <tbody>\n",
       "    <tr>\n",
       "      <th>count</th>\n",
       "      <td>730.000000</td>\n",
       "      <td>730.000000</td>\n",
       "      <td>730.000000</td>\n",
       "      <td>730.000000</td>\n",
       "      <td>730.000000</td>\n",
       "      <td>730.000000</td>\n",
       "      <td>730.000000</td>\n",
       "      <td>730.000000</td>\n",
       "      <td>730.000000</td>\n",
       "      <td>730.000000</td>\n",
       "      <td>730.000000</td>\n",
       "      <td>730.000000</td>\n",
       "    </tr>\n",
       "    <tr>\n",
       "      <th>mean</th>\n",
       "      <td>2.498630</td>\n",
       "      <td>0.500000</td>\n",
       "      <td>6.526027</td>\n",
       "      <td>0.028767</td>\n",
       "      <td>2.997260</td>\n",
       "      <td>0.683562</td>\n",
       "      <td>1.394521</td>\n",
       "      <td>20.319259</td>\n",
       "      <td>23.726322</td>\n",
       "      <td>62.765175</td>\n",
       "      <td>12.763620</td>\n",
       "      <td>4508.006849</td>\n",
       "    </tr>\n",
       "    <tr>\n",
       "      <th>std</th>\n",
       "      <td>1.110184</td>\n",
       "      <td>0.500343</td>\n",
       "      <td>3.450215</td>\n",
       "      <td>0.167266</td>\n",
       "      <td>2.006161</td>\n",
       "      <td>0.465405</td>\n",
       "      <td>0.544807</td>\n",
       "      <td>7.506729</td>\n",
       "      <td>8.150308</td>\n",
       "      <td>14.237589</td>\n",
       "      <td>5.195841</td>\n",
       "      <td>1936.011647</td>\n",
       "    </tr>\n",
       "    <tr>\n",
       "      <th>min</th>\n",
       "      <td>1.000000</td>\n",
       "      <td>0.000000</td>\n",
       "      <td>1.000000</td>\n",
       "      <td>0.000000</td>\n",
       "      <td>0.000000</td>\n",
       "      <td>0.000000</td>\n",
       "      <td>1.000000</td>\n",
       "      <td>2.424346</td>\n",
       "      <td>3.953480</td>\n",
       "      <td>0.000000</td>\n",
       "      <td>1.500244</td>\n",
       "      <td>22.000000</td>\n",
       "    </tr>\n",
       "    <tr>\n",
       "      <th>25%</th>\n",
       "      <td>2.000000</td>\n",
       "      <td>0.000000</td>\n",
       "      <td>4.000000</td>\n",
       "      <td>0.000000</td>\n",
       "      <td>1.000000</td>\n",
       "      <td>0.000000</td>\n",
       "      <td>1.000000</td>\n",
       "      <td>13.811885</td>\n",
       "      <td>16.889713</td>\n",
       "      <td>52.000000</td>\n",
       "      <td>9.041650</td>\n",
       "      <td>3169.750000</td>\n",
       "    </tr>\n",
       "    <tr>\n",
       "      <th>50%</th>\n",
       "      <td>3.000000</td>\n",
       "      <td>0.500000</td>\n",
       "      <td>7.000000</td>\n",
       "      <td>0.000000</td>\n",
       "      <td>3.000000</td>\n",
       "      <td>1.000000</td>\n",
       "      <td>1.000000</td>\n",
       "      <td>20.465826</td>\n",
       "      <td>24.368225</td>\n",
       "      <td>62.625000</td>\n",
       "      <td>12.125325</td>\n",
       "      <td>4548.500000</td>\n",
       "    </tr>\n",
       "    <tr>\n",
       "      <th>75%</th>\n",
       "      <td>3.000000</td>\n",
       "      <td>1.000000</td>\n",
       "      <td>10.000000</td>\n",
       "      <td>0.000000</td>\n",
       "      <td>5.000000</td>\n",
       "      <td>1.000000</td>\n",
       "      <td>2.000000</td>\n",
       "      <td>26.880615</td>\n",
       "      <td>30.445775</td>\n",
       "      <td>72.989575</td>\n",
       "      <td>15.625589</td>\n",
       "      <td>5966.000000</td>\n",
       "    </tr>\n",
       "    <tr>\n",
       "      <th>max</th>\n",
       "      <td>4.000000</td>\n",
       "      <td>1.000000</td>\n",
       "      <td>12.000000</td>\n",
       "      <td>1.000000</td>\n",
       "      <td>6.000000</td>\n",
       "      <td>1.000000</td>\n",
       "      <td>3.000000</td>\n",
       "      <td>35.328347</td>\n",
       "      <td>42.044800</td>\n",
       "      <td>97.250000</td>\n",
       "      <td>34.000021</td>\n",
       "      <td>8714.000000</td>\n",
       "    </tr>\n",
       "  </tbody>\n",
       "</table>\n",
       "</div>"
      ],
      "text/plain": [
       "           season          yr        mnth     holiday     weekday  workingday  \\\n",
       "count  730.000000  730.000000  730.000000  730.000000  730.000000  730.000000   \n",
       "mean     2.498630    0.500000    6.526027    0.028767    2.997260    0.683562   \n",
       "std      1.110184    0.500343    3.450215    0.167266    2.006161    0.465405   \n",
       "min      1.000000    0.000000    1.000000    0.000000    0.000000    0.000000   \n",
       "25%      2.000000    0.000000    4.000000    0.000000    1.000000    0.000000   \n",
       "50%      3.000000    0.500000    7.000000    0.000000    3.000000    1.000000   \n",
       "75%      3.000000    1.000000   10.000000    0.000000    5.000000    1.000000   \n",
       "max      4.000000    1.000000   12.000000    1.000000    6.000000    1.000000   \n",
       "\n",
       "       weathersit        temp       atemp         hum   windspeed          cnt  \n",
       "count  730.000000  730.000000  730.000000  730.000000  730.000000   730.000000  \n",
       "mean     1.394521   20.319259   23.726322   62.765175   12.763620  4508.006849  \n",
       "std      0.544807    7.506729    8.150308   14.237589    5.195841  1936.011647  \n",
       "min      1.000000    2.424346    3.953480    0.000000    1.500244    22.000000  \n",
       "25%      1.000000   13.811885   16.889713   52.000000    9.041650  3169.750000  \n",
       "50%      1.000000   20.465826   24.368225   62.625000   12.125325  4548.500000  \n",
       "75%      2.000000   26.880615   30.445775   72.989575   15.625589  5966.000000  \n",
       "max      3.000000   35.328347   42.044800   97.250000   34.000021  8714.000000  "
      ]
     },
     "execution_count": 104,
     "metadata": {},
     "output_type": "execute_result"
    }
   ],
   "source": [
    "day.describe()"
   ]
  },
  {
   "cell_type": "code",
   "execution_count": 105,
   "metadata": {},
   "outputs": [
    {
     "data": {
      "text/plain": [
       "yr              2\n",
       "holiday         2\n",
       "workingday      2\n",
       "weathersit      3\n",
       "season          4\n",
       "weekday         7\n",
       "mnth           12\n",
       "temp          498\n",
       "hum           594\n",
       "windspeed     649\n",
       "atemp         689\n",
       "cnt           695\n",
       "dtype: int64"
      ]
     },
     "execution_count": 105,
     "metadata": {},
     "output_type": "execute_result"
    }
   ],
   "source": [
    "#lets get an idea about the values present in the columms\n",
    "day.nunique().sort_values(ascending = True)"
   ]
  },
  {
   "cell_type": "code",
   "execution_count": 106,
   "metadata": {},
   "outputs": [
    {
     "data": {
      "text/html": [
       "<div>\n",
       "<style scoped>\n",
       "    .dataframe tbody tr th:only-of-type {\n",
       "        vertical-align: middle;\n",
       "    }\n",
       "\n",
       "    .dataframe tbody tr th {\n",
       "        vertical-align: top;\n",
       "    }\n",
       "\n",
       "    .dataframe thead th {\n",
       "        text-align: right;\n",
       "    }\n",
       "</style>\n",
       "<table border=\"1\" class=\"dataframe\">\n",
       "  <thead>\n",
       "    <tr style=\"text-align: right;\">\n",
       "      <th></th>\n",
       "      <th>temp</th>\n",
       "      <th>atemp</th>\n",
       "      <th>hum</th>\n",
       "      <th>windspeed</th>\n",
       "    </tr>\n",
       "  </thead>\n",
       "  <tbody>\n",
       "    <tr>\n",
       "      <th>0</th>\n",
       "      <td>14.110847</td>\n",
       "      <td>18.18125</td>\n",
       "      <td>80.5833</td>\n",
       "      <td>10.749882</td>\n",
       "    </tr>\n",
       "    <tr>\n",
       "      <th>1</th>\n",
       "      <td>14.902598</td>\n",
       "      <td>17.68695</td>\n",
       "      <td>69.6087</td>\n",
       "      <td>16.652113</td>\n",
       "    </tr>\n",
       "    <tr>\n",
       "      <th>2</th>\n",
       "      <td>8.050924</td>\n",
       "      <td>9.47025</td>\n",
       "      <td>43.7273</td>\n",
       "      <td>16.636703</td>\n",
       "    </tr>\n",
       "    <tr>\n",
       "      <th>3</th>\n",
       "      <td>8.200000</td>\n",
       "      <td>10.60610</td>\n",
       "      <td>59.0435</td>\n",
       "      <td>10.739832</td>\n",
       "    </tr>\n",
       "    <tr>\n",
       "      <th>4</th>\n",
       "      <td>9.305237</td>\n",
       "      <td>11.46350</td>\n",
       "      <td>43.6957</td>\n",
       "      <td>12.522300</td>\n",
       "    </tr>\n",
       "  </tbody>\n",
       "</table>\n",
       "</div>"
      ],
      "text/plain": [
       "        temp     atemp      hum  windspeed\n",
       "0  14.110847  18.18125  80.5833  10.749882\n",
       "1  14.902598  17.68695  69.6087  16.652113\n",
       "2   8.050924   9.47025  43.7273  16.636703\n",
       "3   8.200000  10.60610  59.0435  10.739832\n",
       "4   9.305237  11.46350  43.6957  12.522300"
      ]
     },
     "execution_count": 106,
     "metadata": {},
     "output_type": "execute_result"
    }
   ],
   "source": [
    "#lets standardize the precision for temp, atemp, hum, windspeed \n",
    "day[['temp', 'atemp', 'hum', 'windspeed']].head()"
   ]
  },
  {
   "cell_type": "code",
   "execution_count": 107,
   "metadata": {},
   "outputs": [],
   "source": [
    "#lets round the digits, as for prediction we dont need so much precision \n",
    "day[['temp', 'atemp', 'hum', 'windspeed']] = day[['temp', 'atemp', 'hum', 'windspeed']].round(decimals = 0)"
   ]
  },
  {
   "cell_type": "code",
   "execution_count": 108,
   "metadata": {},
   "outputs": [
    {
     "data": {
      "text/html": [
       "<div>\n",
       "<style scoped>\n",
       "    .dataframe tbody tr th:only-of-type {\n",
       "        vertical-align: middle;\n",
       "    }\n",
       "\n",
       "    .dataframe tbody tr th {\n",
       "        vertical-align: top;\n",
       "    }\n",
       "\n",
       "    .dataframe thead th {\n",
       "        text-align: right;\n",
       "    }\n",
       "</style>\n",
       "<table border=\"1\" class=\"dataframe\">\n",
       "  <thead>\n",
       "    <tr style=\"text-align: right;\">\n",
       "      <th></th>\n",
       "      <th>temp</th>\n",
       "      <th>atemp</th>\n",
       "      <th>hum</th>\n",
       "      <th>windspeed</th>\n",
       "    </tr>\n",
       "  </thead>\n",
       "  <tbody>\n",
       "    <tr>\n",
       "      <th>0</th>\n",
       "      <td>14.0</td>\n",
       "      <td>18.0</td>\n",
       "      <td>81.0</td>\n",
       "      <td>11.0</td>\n",
       "    </tr>\n",
       "    <tr>\n",
       "      <th>1</th>\n",
       "      <td>15.0</td>\n",
       "      <td>18.0</td>\n",
       "      <td>70.0</td>\n",
       "      <td>17.0</td>\n",
       "    </tr>\n",
       "    <tr>\n",
       "      <th>2</th>\n",
       "      <td>8.0</td>\n",
       "      <td>9.0</td>\n",
       "      <td>44.0</td>\n",
       "      <td>17.0</td>\n",
       "    </tr>\n",
       "    <tr>\n",
       "      <th>3</th>\n",
       "      <td>8.0</td>\n",
       "      <td>11.0</td>\n",
       "      <td>59.0</td>\n",
       "      <td>11.0</td>\n",
       "    </tr>\n",
       "    <tr>\n",
       "      <th>4</th>\n",
       "      <td>9.0</td>\n",
       "      <td>11.0</td>\n",
       "      <td>44.0</td>\n",
       "      <td>13.0</td>\n",
       "    </tr>\n",
       "  </tbody>\n",
       "</table>\n",
       "</div>"
      ],
      "text/plain": [
       "   temp  atemp   hum  windspeed\n",
       "0  14.0   18.0  81.0       11.0\n",
       "1  15.0   18.0  70.0       17.0\n",
       "2   8.0    9.0  44.0       17.0\n",
       "3   8.0   11.0  59.0       11.0\n",
       "4   9.0   11.0  44.0       13.0"
      ]
     },
     "execution_count": 108,
     "metadata": {},
     "output_type": "execute_result"
    }
   ],
   "source": [
    "#lets verify the operations\n",
    "day[['temp', 'atemp', 'hum', 'windspeed']].head()"
   ]
  },
  {
   "cell_type": "code",
   "execution_count": null,
   "metadata": {},
   "outputs": [],
   "source": []
  },
  {
   "cell_type": "markdown",
   "metadata": {},
   "source": [
    "## Data Visualization"
   ]
  },
  {
   "cell_type": "code",
   "execution_count": 109,
   "metadata": {},
   "outputs": [],
   "source": [
    "#lets visualize the data to get an overall picture"
   ]
  },
  {
   "cell_type": "code",
   "execution_count": 110,
   "metadata": {},
   "outputs": [
    {
     "data": {
      "text/html": [
       "<div>\n",
       "<style scoped>\n",
       "    .dataframe tbody tr th:only-of-type {\n",
       "        vertical-align: middle;\n",
       "    }\n",
       "\n",
       "    .dataframe tbody tr th {\n",
       "        vertical-align: top;\n",
       "    }\n",
       "\n",
       "    .dataframe thead th {\n",
       "        text-align: right;\n",
       "    }\n",
       "</style>\n",
       "<table border=\"1\" class=\"dataframe\">\n",
       "  <thead>\n",
       "    <tr style=\"text-align: right;\">\n",
       "      <th></th>\n",
       "      <th>season</th>\n",
       "      <th>yr</th>\n",
       "      <th>mnth</th>\n",
       "      <th>holiday</th>\n",
       "      <th>weekday</th>\n",
       "      <th>workingday</th>\n",
       "      <th>weathersit</th>\n",
       "      <th>temp</th>\n",
       "      <th>atemp</th>\n",
       "      <th>hum</th>\n",
       "      <th>windspeed</th>\n",
       "      <th>cnt</th>\n",
       "    </tr>\n",
       "  </thead>\n",
       "  <tbody>\n",
       "    <tr>\n",
       "      <th>0</th>\n",
       "      <td>1</td>\n",
       "      <td>0</td>\n",
       "      <td>1</td>\n",
       "      <td>0</td>\n",
       "      <td>6</td>\n",
       "      <td>0</td>\n",
       "      <td>2</td>\n",
       "      <td>14.0</td>\n",
       "      <td>18.0</td>\n",
       "      <td>81.0</td>\n",
       "      <td>11.0</td>\n",
       "      <td>985</td>\n",
       "    </tr>\n",
       "    <tr>\n",
       "      <th>1</th>\n",
       "      <td>1</td>\n",
       "      <td>0</td>\n",
       "      <td>1</td>\n",
       "      <td>0</td>\n",
       "      <td>0</td>\n",
       "      <td>0</td>\n",
       "      <td>2</td>\n",
       "      <td>15.0</td>\n",
       "      <td>18.0</td>\n",
       "      <td>70.0</td>\n",
       "      <td>17.0</td>\n",
       "      <td>801</td>\n",
       "    </tr>\n",
       "    <tr>\n",
       "      <th>2</th>\n",
       "      <td>1</td>\n",
       "      <td>0</td>\n",
       "      <td>1</td>\n",
       "      <td>0</td>\n",
       "      <td>1</td>\n",
       "      <td>1</td>\n",
       "      <td>1</td>\n",
       "      <td>8.0</td>\n",
       "      <td>9.0</td>\n",
       "      <td>44.0</td>\n",
       "      <td>17.0</td>\n",
       "      <td>1349</td>\n",
       "    </tr>\n",
       "    <tr>\n",
       "      <th>3</th>\n",
       "      <td>1</td>\n",
       "      <td>0</td>\n",
       "      <td>1</td>\n",
       "      <td>0</td>\n",
       "      <td>2</td>\n",
       "      <td>1</td>\n",
       "      <td>1</td>\n",
       "      <td>8.0</td>\n",
       "      <td>11.0</td>\n",
       "      <td>59.0</td>\n",
       "      <td>11.0</td>\n",
       "      <td>1562</td>\n",
       "    </tr>\n",
       "    <tr>\n",
       "      <th>4</th>\n",
       "      <td>1</td>\n",
       "      <td>0</td>\n",
       "      <td>1</td>\n",
       "      <td>0</td>\n",
       "      <td>3</td>\n",
       "      <td>1</td>\n",
       "      <td>1</td>\n",
       "      <td>9.0</td>\n",
       "      <td>11.0</td>\n",
       "      <td>44.0</td>\n",
       "      <td>13.0</td>\n",
       "      <td>1600</td>\n",
       "    </tr>\n",
       "  </tbody>\n",
       "</table>\n",
       "</div>"
      ],
      "text/plain": [
       "   season  yr  mnth  holiday  weekday  workingday  weathersit  temp  atemp  \\\n",
       "0       1   0     1        0        6           0           2  14.0   18.0   \n",
       "1       1   0     1        0        0           0           2  15.0   18.0   \n",
       "2       1   0     1        0        1           1           1   8.0    9.0   \n",
       "3       1   0     1        0        2           1           1   8.0   11.0   \n",
       "4       1   0     1        0        3           1           1   9.0   11.0   \n",
       "\n",
       "    hum  windspeed   cnt  \n",
       "0  81.0       11.0   985  \n",
       "1  70.0       17.0   801  \n",
       "2  44.0       17.0  1349  \n",
       "3  59.0       11.0  1562  \n",
       "4  44.0       13.0  1600  "
      ]
     },
     "execution_count": 110,
     "metadata": {},
     "output_type": "execute_result"
    }
   ],
   "source": [
    "day.head()"
   ]
  },
  {
   "cell_type": "code",
   "execution_count": 111,
   "metadata": {},
   "outputs": [
    {
     "data": {
      "text/plain": [
       "<matplotlib.axes._subplots.AxesSubplot at 0x1c5c78e0978>"
      ]
     },
     "execution_count": 111,
     "metadata": {},
     "output_type": "execute_result"
    },
    {
     "data": {
      "image/png": "[encoded data removed]",
      "text/plain": [
       "<Figure size 432x288 with 1 Axes>"
      ]
     },
     "metadata": {
      "needs_background": "light"
     },
     "output_type": "display_data"
    }
   ],
   "source": [
    "day.season.value_counts().plot(kind='bar')\n",
    "#roughly all seasons last for the same duration"
   ]
  },
  {
   "cell_type": "code",
   "execution_count": 112,
   "metadata": {},
   "outputs": [
    {
     "data": {
      "text/plain": [
       "<matplotlib.axes._subplots.AxesSubplot at 0x1c5c78bc160>"
      ]
     },
     "execution_count": 112,
     "metadata": {},
     "output_type": "execute_result"
    },
    {
     "data": {
      "image/png": "[encoded data removed]",
      "text/plain": [
       "<Figure size 432x288 with 1 Axes>"
      ]
     },
     "metadata": {
      "needs_background": "light"
     },
     "output_type": "display_data"
    }
   ],
   "source": [
    "day.weekday.value_counts().plot(kind='bar')"
   ]
  },
  {
   "cell_type": "code",
   "execution_count": 113,
   "metadata": {},
   "outputs": [
    {
     "data": {
      "image/png": "[encoded data removed]",
      "text/plain": [
       "<Figure size 432x288 with 1 Axes>"
      ]
     },
     "metadata": {
      "needs_background": "light"
     },
     "output_type": "display_data"
    }
   ],
   "source": [
    "#lets see the distribution of humidity\n",
    "plt.hist(day.hum,bins=15)\n",
    "plt.show()"
   ]
  },
  {
   "cell_type": "code",
   "execution_count": 114,
   "metadata": {},
   "outputs": [
    {
     "data": {
      "image/png": "[encoded data removed]",
      "text/plain": [
       "<Figure size 432x288 with 1 Axes>"
      ]
     },
     "metadata": {
      "needs_background": "light"
     },
     "output_type": "display_data"
    }
   ],
   "source": [
    "#lets see the distribution of temp\n",
    "plt.hist(day.temp)\n",
    "plt.show()"
   ]
  },
  {
   "cell_type": "code",
   "execution_count": 115,
   "metadata": {},
   "outputs": [
    {
     "data": {
      "image/png": "[encoded data removed]",
      "text/plain": [
       "<Figure size 432x288 with 1 Axes>"
      ]
     },
     "metadata": {
      "needs_background": "light"
     },
     "output_type": "display_data"
    }
   ],
   "source": [
    "#lets see the distribution of speed\n",
    "plt.hist(day.windspeed)\n",
    "plt.show()"
   ]
  },
  {
   "cell_type": "code",
   "execution_count": 116,
   "metadata": {},
   "outputs": [
    {
     "data": {
      "image/png": "[encoded data removed]",
      "text/plain": [
       "<Figure size 432x288 with 1 Axes>"
      ]
     },
     "metadata": {
      "needs_background": "light"
     },
     "output_type": "display_data"
    }
   ],
   "source": [
    "#lets see the distribution of cnt\n",
    "plt.hist(day.cnt,bins=15)\n",
    "plt.show()"
   ]
  },
  {
   "cell_type": "code",
   "execution_count": 117,
   "metadata": {},
   "outputs": [
    {
     "data": {
      "text/html": [
       "<div>\n",
       "<style scoped>\n",
       "    .dataframe tbody tr th:only-of-type {\n",
       "        vertical-align: middle;\n",
       "    }\n",
       "\n",
       "    .dataframe tbody tr th {\n",
       "        vertical-align: top;\n",
       "    }\n",
       "\n",
       "    .dataframe thead th {\n",
       "        text-align: right;\n",
       "    }\n",
       "</style>\n",
       "<table border=\"1\" class=\"dataframe\">\n",
       "  <thead>\n",
       "    <tr style=\"text-align: right;\">\n",
       "      <th>mnth</th>\n",
       "      <th>1</th>\n",
       "      <th>2</th>\n",
       "      <th>3</th>\n",
       "      <th>4</th>\n",
       "      <th>5</th>\n",
       "      <th>6</th>\n",
       "      <th>7</th>\n",
       "      <th>8</th>\n",
       "      <th>9</th>\n",
       "      <th>10</th>\n",
       "      <th>11</th>\n",
       "      <th>12</th>\n",
       "    </tr>\n",
       "    <tr>\n",
       "      <th>season</th>\n",
       "      <th></th>\n",
       "      <th></th>\n",
       "      <th></th>\n",
       "      <th></th>\n",
       "      <th></th>\n",
       "      <th></th>\n",
       "      <th></th>\n",
       "      <th></th>\n",
       "      <th></th>\n",
       "      <th></th>\n",
       "      <th></th>\n",
       "      <th></th>\n",
       "    </tr>\n",
       "  </thead>\n",
       "  <tbody>\n",
       "    <tr>\n",
       "      <th>1</th>\n",
       "      <td>9.66129</td>\n",
       "      <td>12.267857</td>\n",
       "      <td>16.0</td>\n",
       "      <td>NaN</td>\n",
       "      <td>NaN</td>\n",
       "      <td>NaN</td>\n",
       "      <td>NaN</td>\n",
       "      <td>NaN</td>\n",
       "      <td>NaN</td>\n",
       "      <td>NaN</td>\n",
       "      <td>NaN</td>\n",
       "      <td>12.045455</td>\n",
       "    </tr>\n",
       "    <tr>\n",
       "      <th>2</th>\n",
       "      <td>NaN</td>\n",
       "      <td>NaN</td>\n",
       "      <td>16.0</td>\n",
       "      <td>19.233333</td>\n",
       "      <td>24.419355</td>\n",
       "      <td>27.225</td>\n",
       "      <td>NaN</td>\n",
       "      <td>NaN</td>\n",
       "      <td>NaN</td>\n",
       "      <td>NaN</td>\n",
       "      <td>NaN</td>\n",
       "      <td>NaN</td>\n",
       "    </tr>\n",
       "    <tr>\n",
       "      <th>3</th>\n",
       "      <td>NaN</td>\n",
       "      <td>NaN</td>\n",
       "      <td>NaN</td>\n",
       "      <td>NaN</td>\n",
       "      <td>NaN</td>\n",
       "      <td>29.850</td>\n",
       "      <td>31.0</td>\n",
       "      <td>29.048387</td>\n",
       "      <td>25.704545</td>\n",
       "      <td>NaN</td>\n",
       "      <td>NaN</td>\n",
       "      <td>NaN</td>\n",
       "    </tr>\n",
       "    <tr>\n",
       "      <th>4</th>\n",
       "      <td>NaN</td>\n",
       "      <td>NaN</td>\n",
       "      <td>NaN</td>\n",
       "      <td>NaN</td>\n",
       "      <td>NaN</td>\n",
       "      <td>NaN</td>\n",
       "      <td>NaN</td>\n",
       "      <td>NaN</td>\n",
       "      <td>24.437500</td>\n",
       "      <td>19.870968</td>\n",
       "      <td>15.083333</td>\n",
       "      <td>13.925000</td>\n",
       "    </tr>\n",
       "  </tbody>\n",
       "</table>\n",
       "</div>"
      ],
      "text/plain": [
       "mnth         1          2     3          4          5       6     7   \\\n",
       "season                                                                 \n",
       "1       9.66129  12.267857  16.0        NaN        NaN     NaN   NaN   \n",
       "2           NaN        NaN  16.0  19.233333  24.419355  27.225   NaN   \n",
       "3           NaN        NaN   NaN        NaN        NaN  29.850  31.0   \n",
       "4           NaN        NaN   NaN        NaN        NaN     NaN   NaN   \n",
       "\n",
       "mnth           8          9          10         11         12  \n",
       "season                                                         \n",
       "1             NaN        NaN        NaN        NaN  12.045455  \n",
       "2             NaN        NaN        NaN        NaN        NaN  \n",
       "3       29.048387  25.704545        NaN        NaN        NaN  \n",
       "4             NaN  24.437500  19.870968  15.083333  13.925000  "
      ]
     },
     "execution_count": 117,
     "metadata": {},
     "output_type": "execute_result"
    }
   ],
   "source": [
    "pd.crosstab(day.season,day.mnth, values = day.temp,aggfunc='mean')\n",
    "\n",
    "#we observe that each season last on an average of 3 months"
   ]
  },
  {
   "cell_type": "code",
   "execution_count": 118,
   "metadata": {},
   "outputs": [
    {
     "data": {
      "text/plain": [
       "<matplotlib.axes._subplots.AxesSubplot at 0x1c5c78d4a20>"
      ]
     },
     "execution_count": 118,
     "metadata": {},
     "output_type": "execute_result"
    },
    {
     "data": {
      "image/png": "[encoded data removed]",
      "text/plain": [
       "<Figure size 432x288 with 1 Axes>"
      ]
     },
     "metadata": {
      "needs_background": "light"
     },
     "output_type": "display_data"
    }
   ],
   "source": [
    "#lets see the distribution of temperature and humidity \n",
    "sns.scatterplot(day.temp,day.hum)"
   ]
  },
  {
   "cell_type": "code",
   "execution_count": 119,
   "metadata": {},
   "outputs": [
    {
     "data": {
      "image/png": "[encoded data removed]",
      "text/plain": [
       "<Figure size 1440x864 with 4 Axes>"
      ]
     },
     "metadata": {
      "needs_background": "light"
     },
     "output_type": "display_data"
    }
   ],
   "source": [
    "plt.figure(figsize=(20, 12))\n",
    "plt.subplot(2,2,1)\n",
    "sns.boxplot(x = 'season', y = 'cnt', data = day)\n",
    "plt.subplot(2,2,2)\n",
    "sns.boxplot(x = 'yr', y = 'cnt', data = day)\n",
    "plt.subplot(2,2,3)\n",
    "sns.boxplot(x = 'holiday', y = 'cnt', data = day)\n",
    "plt.subplot(2,2,4)\n",
    "sns.boxplot(x = 'workingday', y = 'cnt', data = day)\n",
    "plt.show()"
   ]
  },
  {
   "cell_type": "code",
   "execution_count": 120,
   "metadata": {},
   "outputs": [
    {
     "data": {
      "text/plain": [
       "<matplotlib.axes._subplots.AxesSubplot at 0x1c5c956b780>"
      ]
     },
     "execution_count": 120,
     "metadata": {},
     "output_type": "execute_result"
    },
    {
     "data": {
      "image/png": "[encoded data removed]",
      "text/plain": [
       "<Figure size 432x288 with 1 Axes>"
      ]
     },
     "metadata": {
      "needs_background": "light"
     },
     "output_type": "display_data"
    }
   ],
   "source": [
    "sns.boxplot(x = 'mnth', y = 'cnt' ,data = day)"
   ]
  },
  {
   "cell_type": "code",
   "execution_count": 121,
   "metadata": {},
   "outputs": [
    {
     "data": {
      "text/plain": [
       "<matplotlib.axes._subplots.AxesSubplot at 0x1c5c933a7f0>"
      ]
     },
     "execution_count": 121,
     "metadata": {},
     "output_type": "execute_result"
    },
    {
     "data": {
      "image/png": "[encoded data removed]",
      "text/plain": [
       "<Figure size 432x288 with 1 Axes>"
      ]
     },
     "metadata": {
      "needs_background": "light"
     },
     "output_type": "display_data"
    }
   ],
   "source": [
    "sns.boxplot(x = 'weekday', y = 'cnt', data = day)\n",
    "\n",
    "#we observe that the overall median is almost constant for the whole week."
   ]
  },
  {
   "cell_type": "code",
   "execution_count": 122,
   "metadata": {},
   "outputs": [
    {
     "data": {
      "text/plain": [
       "<matplotlib.axes._subplots.AxesSubplot at 0x1c5c95c13c8>"
      ]
     },
     "execution_count": 122,
     "metadata": {},
     "output_type": "execute_result"
    },
    {
     "data": {
      "image/png": "[encoded data removed]",
      "text/plain": [
       "<Figure size 432x288 with 1 Axes>"
      ]
     },
     "metadata": {
      "needs_background": "light"
     },
     "output_type": "display_data"
    }
   ],
   "source": [
    "sns.boxplot(x = 'weathersit', y = 'cnt', data = day)\n",
    "\n",
    "#we see that clear(1) weather has highest value of cnt and light rains(3) has the lowest."
   ]
  },
  {
   "cell_type": "code",
   "execution_count": 123,
   "metadata": {},
   "outputs": [
    {
     "data": {
      "text/plain": [
       "<seaborn.axisgrid.PairGrid at 0x1c5c9642668>"
      ]
     },
     "execution_count": 123,
     "metadata": {},
     "output_type": "execute_result"
    },
    {
     "data": {
      "image/png": "[encoded data removed]",
      "text/plain": [
       "<Figure size 720x180 with 4 Axes>"
      ]
     },
     "metadata": {
      "needs_background": "light"
     },
     "output_type": "display_data"
    }
   ],
   "source": [
    "#lets visualize the distribution of numerical variables with cnt\n",
    "sns.pairplot(x_vars = ['temp','atemp','hum','windspeed'], y_vars='cnt', data=day)"
   ]
  },
  {
   "cell_type": "markdown",
   "metadata": {},
   "source": [
    "Lets check the correlation between the variables"
   ]
  },
  {
   "cell_type": "code",
   "execution_count": 124,
   "metadata": {},
   "outputs": [
    {
     "data": {
      "text/plain": [
       "<seaborn.axisgrid.PairGrid at 0x1c5c933a7b8>"
      ]
     },
     "execution_count": 124,
     "metadata": {},
     "output_type": "execute_result"
    },
    {
     "data": {
      "image/png": "[encoded data removed]",
      "text/plain": [
       "<Figure size 1260x180 with 7 Axes>"
      ]
     },
     "metadata": {
      "needs_background": "light"
     },
     "output_type": "display_data"
    }
   ],
   "source": [
    "#lets visualize the distribution of categorical variableswith cnt\n",
    "sns.pairplot(x_vars = ['season','yr','mnth','holiday','weekday','workingday','weathersit'], y_vars='cnt', data=day)"
   ]
  },
  {
   "cell_type": "code",
   "execution_count": 125,
   "metadata": {},
   "outputs": [
    {
     "data": {
      "text/html": [
       "<div>\n",
       "<style scoped>\n",
       "    .dataframe tbody tr th:only-of-type {\n",
       "        vertical-align: middle;\n",
       "    }\n",
       "\n",
       "    .dataframe tbody tr th {\n",
       "        vertical-align: top;\n",
       "    }\n",
       "\n",
       "    .dataframe thead th {\n",
       "        text-align: right;\n",
       "    }\n",
       "</style>\n",
       "<table border=\"1\" class=\"dataframe\">\n",
       "  <thead>\n",
       "    <tr style=\"text-align: right;\">\n",
       "      <th></th>\n",
       "      <th>season</th>\n",
       "      <th>yr</th>\n",
       "      <th>mnth</th>\n",
       "      <th>holiday</th>\n",
       "      <th>weekday</th>\n",
       "      <th>workingday</th>\n",
       "      <th>weathersit</th>\n",
       "      <th>temp</th>\n",
       "      <th>atemp</th>\n",
       "      <th>hum</th>\n",
       "      <th>windspeed</th>\n",
       "      <th>cnt</th>\n",
       "    </tr>\n",
       "  </thead>\n",
       "  <tbody>\n",
       "    <tr>\n",
       "      <th>season</th>\n",
       "      <td>1.000000e+00</td>\n",
       "      <td>-2.248195e-17</td>\n",
       "      <td>8.310321e-01</td>\n",
       "      <td>-0.010868</td>\n",
       "      <td>-0.003081</td>\n",
       "      <td>0.013762</td>\n",
       "      <td>0.021306</td>\n",
       "      <td>0.333352</td>\n",
       "      <td>0.341072</td>\n",
       "      <td>0.206431</td>\n",
       "      <td>-0.230908</td>\n",
       "      <td>0.404584</td>\n",
       "    </tr>\n",
       "    <tr>\n",
       "      <th>yr</th>\n",
       "      <td>-2.248195e-17</td>\n",
       "      <td>1.000000e+00</td>\n",
       "      <td>-2.470170e-17</td>\n",
       "      <td>0.008195</td>\n",
       "      <td>-0.005466</td>\n",
       "      <td>-0.002945</td>\n",
       "      <td>-0.050322</td>\n",
       "      <td>0.047677</td>\n",
       "      <td>0.048125</td>\n",
       "      <td>-0.112767</td>\n",
       "      <td>-0.012403</td>\n",
       "      <td>0.569728</td>\n",
       "    </tr>\n",
       "    <tr>\n",
       "      <th>mnth</th>\n",
       "      <td>8.310321e-01</td>\n",
       "      <td>-2.470170e-17</td>\n",
       "      <td>1.000000e+00</td>\n",
       "      <td>0.018905</td>\n",
       "      <td>0.009523</td>\n",
       "      <td>-0.004688</td>\n",
       "      <td>0.045613</td>\n",
       "      <td>0.217969</td>\n",
       "      <td>0.224637</td>\n",
       "      <td>0.223504</td>\n",
       "      <td>-0.209957</td>\n",
       "      <td>0.278191</td>\n",
       "    </tr>\n",
       "    <tr>\n",
       "      <th>holiday</th>\n",
       "      <td>-1.086804e-02</td>\n",
       "      <td>8.195345e-03</td>\n",
       "      <td>1.890483e-02</td>\n",
       "      <td>1.000000</td>\n",
       "      <td>-0.101962</td>\n",
       "      <td>-0.252948</td>\n",
       "      <td>-0.034395</td>\n",
       "      <td>-0.031342</td>\n",
       "      <td>-0.030854</td>\n",
       "      <td>-0.016183</td>\n",
       "      <td>0.006097</td>\n",
       "      <td>-0.068764</td>\n",
       "    </tr>\n",
       "    <tr>\n",
       "      <th>weekday</th>\n",
       "      <td>-3.081198e-03</td>\n",
       "      <td>-5.466369e-03</td>\n",
       "      <td>9.522969e-03</td>\n",
       "      <td>-0.101962</td>\n",
       "      <td>1.000000</td>\n",
       "      <td>0.035800</td>\n",
       "      <td>0.031112</td>\n",
       "      <td>-0.001666</td>\n",
       "      <td>-0.007261</td>\n",
       "      <td>-0.052674</td>\n",
       "      <td>0.016130</td>\n",
       "      <td>0.067534</td>\n",
       "    </tr>\n",
       "    <tr>\n",
       "      <th>workingday</th>\n",
       "      <td>1.376178e-02</td>\n",
       "      <td>-2.945396e-03</td>\n",
       "      <td>-4.687953e-03</td>\n",
       "      <td>-0.252948</td>\n",
       "      <td>0.035800</td>\n",
       "      <td>1.000000</td>\n",
       "      <td>0.060236</td>\n",
       "      <td>0.057000</td>\n",
       "      <td>0.053960</td>\n",
       "      <td>0.024499</td>\n",
       "      <td>-0.016726</td>\n",
       "      <td>0.062542</td>\n",
       "    </tr>\n",
       "    <tr>\n",
       "      <th>weathersit</th>\n",
       "      <td>2.130636e-02</td>\n",
       "      <td>-5.032247e-02</td>\n",
       "      <td>4.561335e-02</td>\n",
       "      <td>-0.034395</td>\n",
       "      <td>0.031112</td>\n",
       "      <td>0.060236</td>\n",
       "      <td>1.000000</td>\n",
       "      <td>-0.119695</td>\n",
       "      <td>-0.122892</td>\n",
       "      <td>0.591126</td>\n",
       "      <td>0.039104</td>\n",
       "      <td>-0.295929</td>\n",
       "    </tr>\n",
       "    <tr>\n",
       "      <th>temp</th>\n",
       "      <td>3.333522e-01</td>\n",
       "      <td>4.767703e-02</td>\n",
       "      <td>2.179688e-01</td>\n",
       "      <td>-0.031342</td>\n",
       "      <td>-0.001666</td>\n",
       "      <td>0.057000</td>\n",
       "      <td>-0.119695</td>\n",
       "      <td>1.000000</td>\n",
       "      <td>0.990281</td>\n",
       "      <td>0.129068</td>\n",
       "      <td>-0.164112</td>\n",
       "      <td>0.627000</td>\n",
       "    </tr>\n",
       "    <tr>\n",
       "      <th>atemp</th>\n",
       "      <td>3.410719e-01</td>\n",
       "      <td>4.812480e-02</td>\n",
       "      <td>2.246365e-01</td>\n",
       "      <td>-0.030854</td>\n",
       "      <td>-0.007261</td>\n",
       "      <td>0.053960</td>\n",
       "      <td>-0.122892</td>\n",
       "      <td>0.990281</td>\n",
       "      <td>1.000000</td>\n",
       "      <td>0.139958</td>\n",
       "      <td>-0.189864</td>\n",
       "      <td>0.632085</td>\n",
       "    </tr>\n",
       "    <tr>\n",
       "      <th>hum</th>\n",
       "      <td>2.064314e-01</td>\n",
       "      <td>-1.127666e-01</td>\n",
       "      <td>2.235044e-01</td>\n",
       "      <td>-0.016183</td>\n",
       "      <td>-0.052674</td>\n",
       "      <td>0.024499</td>\n",
       "      <td>0.591126</td>\n",
       "      <td>0.129068</td>\n",
       "      <td>0.139958</td>\n",
       "      <td>1.000000</td>\n",
       "      <td>-0.247690</td>\n",
       "      <td>-0.099506</td>\n",
       "    </tr>\n",
       "    <tr>\n",
       "      <th>windspeed</th>\n",
       "      <td>-2.309083e-01</td>\n",
       "      <td>-1.240325e-02</td>\n",
       "      <td>-2.099574e-01</td>\n",
       "      <td>0.006097</td>\n",
       "      <td>0.016130</td>\n",
       "      <td>-0.016726</td>\n",
       "      <td>0.039104</td>\n",
       "      <td>-0.164112</td>\n",
       "      <td>-0.189864</td>\n",
       "      <td>-0.247690</td>\n",
       "      <td>1.000000</td>\n",
       "      <td>-0.237735</td>\n",
       "    </tr>\n",
       "    <tr>\n",
       "      <th>cnt</th>\n",
       "      <td>4.045838e-01</td>\n",
       "      <td>5.697285e-01</td>\n",
       "      <td>2.781909e-01</td>\n",
       "      <td>-0.068764</td>\n",
       "      <td>0.067534</td>\n",
       "      <td>0.062542</td>\n",
       "      <td>-0.295929</td>\n",
       "      <td>0.627000</td>\n",
       "      <td>0.632085</td>\n",
       "      <td>-0.099506</td>\n",
       "      <td>-0.237735</td>\n",
       "      <td>1.000000</td>\n",
       "    </tr>\n",
       "  </tbody>\n",
       "</table>\n",
       "</div>"
      ],
      "text/plain": [
       "                  season            yr          mnth   holiday   weekday  \\\n",
       "season      1.000000e+00 -2.248195e-17  8.310321e-01 -0.010868 -0.003081   \n",
       "yr         -2.248195e-17  1.000000e+00 -2.470170e-17  0.008195 -0.005466   \n",
       "mnth        8.310321e-01 -2.470170e-17  1.000000e+00  0.018905  0.009523   \n",
       "holiday    -1.086804e-02  8.195345e-03  1.890483e-02  1.000000 -0.101962   \n",
       "weekday    -3.081198e-03 -5.466369e-03  9.522969e-03 -0.101962  1.000000   \n",
       "workingday  1.376178e-02 -2.945396e-03 -4.687953e-03 -0.252948  0.035800   \n",
       "weathersit  2.130636e-02 -5.032247e-02  4.561335e-02 -0.034395  0.031112   \n",
       "temp        3.333522e-01  4.767703e-02  2.179688e-01 -0.031342 -0.001666   \n",
       "atemp       3.410719e-01  4.812480e-02  2.246365e-01 -0.030854 -0.007261   \n",
       "hum         2.064314e-01 -1.127666e-01  2.235044e-01 -0.016183 -0.052674   \n",
       "windspeed  -2.309083e-01 -1.240325e-02 -2.099574e-01  0.006097  0.016130   \n",
       "cnt         4.045838e-01  5.697285e-01  2.781909e-01 -0.068764  0.067534   \n",
       "\n",
       "            workingday  weathersit      temp     atemp       hum  windspeed  \\\n",
       "season        0.013762    0.021306  0.333352  0.341072  0.206431  -0.230908   \n",
       "yr           -0.002945   -0.050322  0.047677  0.048125 -0.112767  -0.012403   \n",
       "mnth         -0.004688    0.045613  0.217969  0.224637  0.223504  -0.209957   \n",
       "holiday      -0.252948   -0.034395 -0.031342 -0.030854 -0.016183   0.006097   \n",
       "weekday       0.035800    0.031112 -0.001666 -0.007261 -0.052674   0.016130   \n",
       "workingday    1.000000    0.060236  0.057000  0.053960  0.024499  -0.016726   \n",
       "weathersit    0.060236    1.000000 -0.119695 -0.122892  0.591126   0.039104   \n",
       "temp          0.057000   -0.119695  1.000000  0.990281  0.129068  -0.164112   \n",
       "atemp         0.053960   -0.122892  0.990281  1.000000  0.139958  -0.189864   \n",
       "hum           0.024499    0.591126  0.129068  0.139958  1.000000  -0.247690   \n",
       "windspeed    -0.016726    0.039104 -0.164112 -0.189864 -0.247690   1.000000   \n",
       "cnt           0.062542   -0.295929  0.627000  0.632085 -0.099506  -0.237735   \n",
       "\n",
       "                 cnt  \n",
       "season      0.404584  \n",
       "yr          0.569728  \n",
       "mnth        0.278191  \n",
       "holiday    -0.068764  \n",
       "weekday     0.067534  \n",
       "workingday  0.062542  \n",
       "weathersit -0.295929  \n",
       "temp        0.627000  \n",
       "atemp       0.632085  \n",
       "hum        -0.099506  \n",
       "windspeed  -0.237735  \n",
       "cnt         1.000000  "
      ]
     },
     "execution_count": 125,
     "metadata": {},
     "output_type": "execute_result"
    }
   ],
   "source": [
    "#lets see the correlation\n",
    "day.corr()"
   ]
  },
  {
   "cell_type": "code",
   "execution_count": 126,
   "metadata": {},
   "outputs": [
    {
     "data": {
      "text/plain": [
       "<matplotlib.axes._subplots.AxesSubplot at 0x1c5c9953048>"
      ]
     },
     "execution_count": 126,
     "metadata": {},
     "output_type": "execute_result"
    },
    {
     "data": {
      "image/png": "[encoded data removed]",
      "text/plain": [
       "<Figure size 1080x576 with 2 Axes>"
      ]
     },
     "metadata": {
      "needs_background": "light"
     },
     "output_type": "display_data"
    }
   ],
   "source": [
    "#lets see the correlation\n",
    "plt.figure(figsize=(15,8), )\n",
    "sns.heatmap(day.corr(), annot=True,cmap=\"YlGnBu\")"
   ]
  },
  {
   "cell_type": "markdown",
   "metadata": {},
   "source": [
    "we observe that \n",
    "- season has 0.4\n",
    "- year has 0.57\n",
    "- mnth has 0.28\n",
    "- temp has 0.63\n",
    "- atemp has 0.63\n"
   ]
  },
  {
   "cell_type": "code",
   "execution_count": 127,
   "metadata": {},
   "outputs": [],
   "source": [
    "#we observe that temp and atemp have very high correlation 0.99. And that is expected as both columns represent the temperature. \n",
    "#this will cause multicollinarity issue later on so lets drop atemp column\n",
    "day.drop('atemp',inplace=True,axis =1 )"
   ]
  },
  {
   "cell_type": "markdown",
   "metadata": {},
   "source": [
    "## Data Preparation"
   ]
  },
  {
   "cell_type": "markdown",
   "metadata": {},
   "source": [
    "Lets create dummy variables for the categorical variables\n",
    "as the linear regression model does not take categorical values we need to map them "
   ]
  },
  {
   "cell_type": "markdown",
   "metadata": {},
   "source": [
    "For the column season"
   ]
  },
  {
   "cell_type": "code",
   "execution_count": 128,
   "metadata": {},
   "outputs": [
    {
     "data": {
      "text/plain": [
       "3    188\n",
       "2    184\n",
       "1    180\n",
       "4    178\n",
       "Name: season, dtype: int64"
      ]
     },
     "execution_count": 128,
     "metadata": {},
     "output_type": "execute_result"
    }
   ],
   "source": [
    "day.season.value_counts()"
   ]
  },
  {
   "cell_type": "code",
   "execution_count": 129,
   "metadata": {},
   "outputs": [],
   "source": [
    "day['season'] = day['season'].map({ 1:'spring', \n",
    "                                    2:'summer',\n",
    "                                    3:'fall',\n",
    "                                    4:'winter' } )"
   ]
  },
  {
   "cell_type": "code",
   "execution_count": 130,
   "metadata": {},
   "outputs": [
    {
     "data": {
      "text/plain": [
       "fall      188\n",
       "summer    184\n",
       "spring    180\n",
       "winter    178\n",
       "Name: season, dtype: int64"
      ]
     },
     "execution_count": 130,
     "metadata": {},
     "output_type": "execute_result"
    }
   ],
   "source": [
    "#lets verify if the conversion was proper\n",
    "day.season.value_counts()"
   ]
  },
  {
   "cell_type": "markdown",
   "metadata": {},
   "source": [
    "For the column month "
   ]
  },
  {
   "cell_type": "code",
   "execution_count": 131,
   "metadata": {},
   "outputs": [
    {
     "data": {
      "text/plain": [
       "12    62\n",
       "10    62\n",
       "8     62\n",
       "7     62\n",
       "5     62\n",
       "3     62\n",
       "1     62\n",
       "11    60\n",
       "9     60\n",
       "6     60\n",
       "4     60\n",
       "2     56\n",
       "Name: mnth, dtype: int64"
      ]
     },
     "execution_count": 131,
     "metadata": {},
     "output_type": "execute_result"
    }
   ],
   "source": [
    "day.mnth.value_counts()"
   ]
  },
  {
   "cell_type": "code",
   "execution_count": 132,
   "metadata": {},
   "outputs": [],
   "source": [
    "day['mnth'] = day['mnth'].map({ 1:'jan', \n",
    "                                2:'feb',\n",
    "                                3:'march',\n",
    "                                4:'april',\n",
    "                                5:'may', \n",
    "                                6:'june',\n",
    "                                7:'july',\n",
    "                                8:'august',\n",
    "                                9:'sept', \n",
    "                                10:'oct',\n",
    "                                11:'nov',\n",
    "                                12:'dec'\n",
    "                              } )"
   ]
  },
  {
   "cell_type": "code",
   "execution_count": 133,
   "metadata": {},
   "outputs": [
    {
     "data": {
      "text/plain": [
       "dec       62\n",
       "august    62\n",
       "jan       62\n",
       "july      62\n",
       "oct       62\n",
       "may       62\n",
       "march     62\n",
       "june      60\n",
       "april     60\n",
       "nov       60\n",
       "sept      60\n",
       "feb       56\n",
       "Name: mnth, dtype: int64"
      ]
     },
     "execution_count": 133,
     "metadata": {},
     "output_type": "execute_result"
    }
   ],
   "source": [
    "day.mnth.value_counts()"
   ]
  },
  {
   "cell_type": "markdown",
   "metadata": {},
   "source": [
    "For the column weekday "
   ]
  },
  {
   "cell_type": "code",
   "execution_count": 134,
   "metadata": {},
   "outputs": [
    {
     "data": {
      "text/plain": [
       "6    105\n",
       "1    105\n",
       "0    105\n",
       "5    104\n",
       "4    104\n",
       "2    104\n",
       "3    103\n",
       "Name: weekday, dtype: int64"
      ]
     },
     "execution_count": 134,
     "metadata": {},
     "output_type": "execute_result"
    }
   ],
   "source": [
    "day.weekday.value_counts()"
   ]
  },
  {
   "cell_type": "code",
   "execution_count": 135,
   "metadata": {},
   "outputs": [],
   "source": [
    "day['weekday'] = day['weekday'].map({ 1:'day 1', \n",
    "                                2:'day 2',\n",
    "                                3:'day 3',\n",
    "                                4:'day 4',\n",
    "                                5:'day 5', \n",
    "                                6:'day 6',\n",
    "                                0:'day 0'\n",
    "                              } )"
   ]
  },
  {
   "cell_type": "code",
   "execution_count": 136,
   "metadata": {},
   "outputs": [
    {
     "data": {
      "text/plain": [
       "day 0    105\n",
       "day 1    105\n",
       "day 6    105\n",
       "day 2    104\n",
       "day 4    104\n",
       "day 5    104\n",
       "day 3    103\n",
       "Name: weekday, dtype: int64"
      ]
     },
     "execution_count": 136,
     "metadata": {},
     "output_type": "execute_result"
    }
   ],
   "source": [
    "day.weekday.value_counts()"
   ]
  },
  {
   "cell_type": "markdown",
   "metadata": {},
   "source": [
    "For the column weathersit "
   ]
  },
  {
   "cell_type": "code",
   "execution_count": 137,
   "metadata": {},
   "outputs": [
    {
     "data": {
      "text/plain": [
       "1    463\n",
       "2    246\n",
       "3     21\n",
       "Name: weathersit, dtype: int64"
      ]
     },
     "execution_count": 137,
     "metadata": {},
     "output_type": "execute_result"
    }
   ],
   "source": [
    "day.weathersit.value_counts()"
   ]
  },
  {
   "cell_type": "code",
   "execution_count": 138,
   "metadata": {},
   "outputs": [],
   "source": [
    "day['weathersit'] = day['weathersit'].map({ 1:'clear', \n",
    "                                            2:'cloudy',\n",
    "                                            3:'light_rain',\n",
    "                                            4:'heavy_rain'\n",
    "                                          } )"
   ]
  },
  {
   "cell_type": "code",
   "execution_count": 139,
   "metadata": {},
   "outputs": [
    {
     "data": {
      "text/plain": [
       "clear         463\n",
       "cloudy        246\n",
       "light_rain     21\n",
       "Name: weathersit, dtype: int64"
      ]
     },
     "execution_count": 139,
     "metadata": {},
     "output_type": "execute_result"
    }
   ],
   "source": [
    "day.weathersit.value_counts()"
   ]
  },
  {
   "cell_type": "code",
   "execution_count": 140,
   "metadata": {},
   "outputs": [
    {
     "data": {
      "text/html": [
       "<div>\n",
       "<style scoped>\n",
       "    .dataframe tbody tr th:only-of-type {\n",
       "        vertical-align: middle;\n",
       "    }\n",
       "\n",
       "    .dataframe tbody tr th {\n",
       "        vertical-align: top;\n",
       "    }\n",
       "\n",
       "    .dataframe thead th {\n",
       "        text-align: right;\n",
       "    }\n",
       "</style>\n",
       "<table border=\"1\" class=\"dataframe\">\n",
       "  <thead>\n",
       "    <tr style=\"text-align: right;\">\n",
       "      <th></th>\n",
       "      <th>season</th>\n",
       "      <th>yr</th>\n",
       "      <th>mnth</th>\n",
       "      <th>holiday</th>\n",
       "      <th>weekday</th>\n",
       "      <th>workingday</th>\n",
       "      <th>weathersit</th>\n",
       "      <th>temp</th>\n",
       "      <th>hum</th>\n",
       "      <th>windspeed</th>\n",
       "      <th>cnt</th>\n",
       "    </tr>\n",
       "  </thead>\n",
       "  <tbody>\n",
       "    <tr>\n",
       "      <th>0</th>\n",
       "      <td>spring</td>\n",
       "      <td>0</td>\n",
       "      <td>jan</td>\n",
       "      <td>0</td>\n",
       "      <td>day 6</td>\n",
       "      <td>0</td>\n",
       "      <td>cloudy</td>\n",
       "      <td>14.0</td>\n",
       "      <td>81.0</td>\n",
       "      <td>11.0</td>\n",
       "      <td>985</td>\n",
       "    </tr>\n",
       "    <tr>\n",
       "      <th>1</th>\n",
       "      <td>spring</td>\n",
       "      <td>0</td>\n",
       "      <td>jan</td>\n",
       "      <td>0</td>\n",
       "      <td>day 0</td>\n",
       "      <td>0</td>\n",
       "      <td>cloudy</td>\n",
       "      <td>15.0</td>\n",
       "      <td>70.0</td>\n",
       "      <td>17.0</td>\n",
       "      <td>801</td>\n",
       "    </tr>\n",
       "    <tr>\n",
       "      <th>2</th>\n",
       "      <td>spring</td>\n",
       "      <td>0</td>\n",
       "      <td>jan</td>\n",
       "      <td>0</td>\n",
       "      <td>day 1</td>\n",
       "      <td>1</td>\n",
       "      <td>clear</td>\n",
       "      <td>8.0</td>\n",
       "      <td>44.0</td>\n",
       "      <td>17.0</td>\n",
       "      <td>1349</td>\n",
       "    </tr>\n",
       "    <tr>\n",
       "      <th>3</th>\n",
       "      <td>spring</td>\n",
       "      <td>0</td>\n",
       "      <td>jan</td>\n",
       "      <td>0</td>\n",
       "      <td>day 2</td>\n",
       "      <td>1</td>\n",
       "      <td>clear</td>\n",
       "      <td>8.0</td>\n",
       "      <td>59.0</td>\n",
       "      <td>11.0</td>\n",
       "      <td>1562</td>\n",
       "    </tr>\n",
       "    <tr>\n",
       "      <th>4</th>\n",
       "      <td>spring</td>\n",
       "      <td>0</td>\n",
       "      <td>jan</td>\n",
       "      <td>0</td>\n",
       "      <td>day 3</td>\n",
       "      <td>1</td>\n",
       "      <td>clear</td>\n",
       "      <td>9.0</td>\n",
       "      <td>44.0</td>\n",
       "      <td>13.0</td>\n",
       "      <td>1600</td>\n",
       "    </tr>\n",
       "  </tbody>\n",
       "</table>\n",
       "</div>"
      ],
      "text/plain": [
       "   season  yr mnth  holiday weekday  workingday weathersit  temp   hum  \\\n",
       "0  spring   0  jan        0   day 6           0     cloudy  14.0  81.0   \n",
       "1  spring   0  jan        0   day 0           0     cloudy  15.0  70.0   \n",
       "2  spring   0  jan        0   day 1           1      clear   8.0  44.0   \n",
       "3  spring   0  jan        0   day 2           1      clear   8.0  59.0   \n",
       "4  spring   0  jan        0   day 3           1      clear   9.0  44.0   \n",
       "\n",
       "   windspeed   cnt  \n",
       "0       11.0   985  \n",
       "1       17.0   801  \n",
       "2       17.0  1349  \n",
       "3       11.0  1562  \n",
       "4       13.0  1600  "
      ]
     },
     "execution_count": 140,
     "metadata": {},
     "output_type": "execute_result"
    }
   ],
   "source": [
    "#lets view hows the data looks now\n",
    "day.head()"
   ]
  },
  {
   "cell_type": "code",
   "execution_count": 141,
   "metadata": {},
   "outputs": [
    {
     "data": {
      "text/html": [
       "<div>\n",
       "<style scoped>\n",
       "    .dataframe tbody tr th:only-of-type {\n",
       "        vertical-align: middle;\n",
       "    }\n",
       "\n",
       "    .dataframe tbody tr th {\n",
       "        vertical-align: top;\n",
       "    }\n",
       "\n",
       "    .dataframe thead th {\n",
       "        text-align: right;\n",
       "    }\n",
       "</style>\n",
       "<table border=\"1\" class=\"dataframe\">\n",
       "  <thead>\n",
       "    <tr style=\"text-align: right;\">\n",
       "      <th></th>\n",
       "      <th>season</th>\n",
       "      <th>mnth</th>\n",
       "      <th>weekday</th>\n",
       "      <th>weathersit</th>\n",
       "    </tr>\n",
       "  </thead>\n",
       "  <tbody>\n",
       "    <tr>\n",
       "      <th>count</th>\n",
       "      <td>730</td>\n",
       "      <td>730</td>\n",
       "      <td>730</td>\n",
       "      <td>730</td>\n",
       "    </tr>\n",
       "    <tr>\n",
       "      <th>unique</th>\n",
       "      <td>4</td>\n",
       "      <td>12</td>\n",
       "      <td>7</td>\n",
       "      <td>3</td>\n",
       "    </tr>\n",
       "    <tr>\n",
       "      <th>top</th>\n",
       "      <td>fall</td>\n",
       "      <td>dec</td>\n",
       "      <td>day 0</td>\n",
       "      <td>clear</td>\n",
       "    </tr>\n",
       "    <tr>\n",
       "      <th>freq</th>\n",
       "      <td>188</td>\n",
       "      <td>62</td>\n",
       "      <td>105</td>\n",
       "      <td>463</td>\n",
       "    </tr>\n",
       "  </tbody>\n",
       "</table>\n",
       "</div>"
      ],
      "text/plain": [
       "       season mnth weekday weathersit\n",
       "count     730  730     730        730\n",
       "unique      4   12       7          3\n",
       "top      fall  dec   day 0      clear\n",
       "freq      188   62     105        463"
      ]
     },
     "execution_count": 141,
     "metadata": {},
     "output_type": "execute_result"
    }
   ],
   "source": [
    "day.describe(include='object')"
   ]
  },
  {
   "cell_type": "code",
   "execution_count": 142,
   "metadata": {},
   "outputs": [],
   "source": [
    "#lets convert the categorical variable into dummy variables \n",
    "status1 = pd.get_dummies(day['season'], drop_first=True)\n",
    "status2 = pd.get_dummies(day['mnth'], drop_first=True)\n",
    "status3 = pd.get_dummies(day['weekday'], drop_first=True)\n",
    "\n",
    "#as one value(weathersit category 4 which corresponds to heavy rain and snow) is already not present in the dataset, we will not \n",
    "#drop the other column using drop_first\n",
    "#as that value is not present in our dataset but it can be in one of the test cases or actual scenario, in that case it will be \n",
    "#assigned 000\n",
    "status4 = pd.get_dummies(day['weathersit'])"
   ]
  },
  {
   "cell_type": "code",
   "execution_count": 143,
   "metadata": {},
   "outputs": [],
   "source": [
    "#add the dummy variables to the dataframe\n",
    "day = pd.concat([day,status1], axis = 1)\n",
    "day = pd.concat([day,status2], axis = 1)\n",
    "day = pd.concat([day,status3], axis = 1)\n",
    "day = pd.concat([day,status4], axis = 1)"
   ]
  },
  {
   "cell_type": "code",
   "execution_count": 144,
   "metadata": {},
   "outputs": [],
   "source": [
    "#remove the original columns\n",
    "day.drop(['season','mnth','weekday','weathersit'],inplace = True,axis = 1)"
   ]
  },
  {
   "cell_type": "code",
   "execution_count": 145,
   "metadata": {},
   "outputs": [
    {
     "data": {
      "text/plain": [
       "(730, 30)"
      ]
     },
     "execution_count": 145,
     "metadata": {},
     "output_type": "execute_result"
    }
   ],
   "source": [
    "#lets check the shape now\n",
    "day.shape"
   ]
  },
  {
   "cell_type": "code",
   "execution_count": 146,
   "metadata": {},
   "outputs": [
    {
     "data": {
      "text/html": [
       "<div>\n",
       "<style scoped>\n",
       "    .dataframe tbody tr th:only-of-type {\n",
       "        vertical-align: middle;\n",
       "    }\n",
       "\n",
       "    .dataframe tbody tr th {\n",
       "        vertical-align: top;\n",
       "    }\n",
       "\n",
       "    .dataframe thead th {\n",
       "        text-align: right;\n",
       "    }\n",
       "</style>\n",
       "<table border=\"1\" class=\"dataframe\">\n",
       "  <thead>\n",
       "    <tr style=\"text-align: right;\">\n",
       "      <th></th>\n",
       "      <th>yr</th>\n",
       "      <th>holiday</th>\n",
       "      <th>workingday</th>\n",
       "      <th>temp</th>\n",
       "      <th>hum</th>\n",
       "      <th>windspeed</th>\n",
       "      <th>cnt</th>\n",
       "      <th>spring</th>\n",
       "      <th>summer</th>\n",
       "      <th>winter</th>\n",
       "      <th>august</th>\n",
       "      <th>dec</th>\n",
       "      <th>feb</th>\n",
       "      <th>jan</th>\n",
       "      <th>july</th>\n",
       "      <th>june</th>\n",
       "      <th>march</th>\n",
       "      <th>may</th>\n",
       "      <th>nov</th>\n",
       "      <th>oct</th>\n",
       "      <th>sept</th>\n",
       "      <th>day 1</th>\n",
       "      <th>day 2</th>\n",
       "      <th>day 3</th>\n",
       "      <th>day 4</th>\n",
       "      <th>day 5</th>\n",
       "      <th>day 6</th>\n",
       "      <th>clear</th>\n",
       "      <th>cloudy</th>\n",
       "      <th>light_rain</th>\n",
       "    </tr>\n",
       "  </thead>\n",
       "  <tbody>\n",
       "    <tr>\n",
       "      <th>0</th>\n",
       "      <td>0</td>\n",
       "      <td>0</td>\n",
       "      <td>0</td>\n",
       "      <td>14.0</td>\n",
       "      <td>81.0</td>\n",
       "      <td>11.0</td>\n",
       "      <td>985</td>\n",
       "      <td>1</td>\n",
       "      <td>0</td>\n",
       "      <td>0</td>\n",
       "      <td>0</td>\n",
       "      <td>0</td>\n",
       "      <td>0</td>\n",
       "      <td>1</td>\n",
       "      <td>0</td>\n",
       "      <td>0</td>\n",
       "      <td>0</td>\n",
       "      <td>0</td>\n",
       "      <td>0</td>\n",
       "      <td>0</td>\n",
       "      <td>0</td>\n",
       "      <td>0</td>\n",
       "      <td>0</td>\n",
       "      <td>0</td>\n",
       "      <td>0</td>\n",
       "      <td>0</td>\n",
       "      <td>1</td>\n",
       "      <td>0</td>\n",
       "      <td>1</td>\n",
       "      <td>0</td>\n",
       "    </tr>\n",
       "    <tr>\n",
       "      <th>1</th>\n",
       "      <td>0</td>\n",
       "      <td>0</td>\n",
       "      <td>0</td>\n",
       "      <td>15.0</td>\n",
       "      <td>70.0</td>\n",
       "      <td>17.0</td>\n",
       "      <td>801</td>\n",
       "      <td>1</td>\n",
       "      <td>0</td>\n",
       "      <td>0</td>\n",
       "      <td>0</td>\n",
       "      <td>0</td>\n",
       "      <td>0</td>\n",
       "      <td>1</td>\n",
       "      <td>0</td>\n",
       "      <td>0</td>\n",
       "      <td>0</td>\n",
       "      <td>0</td>\n",
       "      <td>0</td>\n",
       "      <td>0</td>\n",
       "      <td>0</td>\n",
       "      <td>0</td>\n",
       "      <td>0</td>\n",
       "      <td>0</td>\n",
       "      <td>0</td>\n",
       "      <td>0</td>\n",
       "      <td>0</td>\n",
       "      <td>0</td>\n",
       "      <td>1</td>\n",
       "      <td>0</td>\n",
       "    </tr>\n",
       "    <tr>\n",
       "      <th>2</th>\n",
       "      <td>0</td>\n",
       "      <td>0</td>\n",
       "      <td>1</td>\n",
       "      <td>8.0</td>\n",
       "      <td>44.0</td>\n",
       "      <td>17.0</td>\n",
       "      <td>1349</td>\n",
       "      <td>1</td>\n",
       "      <td>0</td>\n",
       "      <td>0</td>\n",
       "      <td>0</td>\n",
       "      <td>0</td>\n",
       "      <td>0</td>\n",
       "      <td>1</td>\n",
       "      <td>0</td>\n",
       "      <td>0</td>\n",
       "      <td>0</td>\n",
       "      <td>0</td>\n",
       "      <td>0</td>\n",
       "      <td>0</td>\n",
       "      <td>0</td>\n",
       "      <td>1</td>\n",
       "      <td>0</td>\n",
       "      <td>0</td>\n",
       "      <td>0</td>\n",
       "      <td>0</td>\n",
       "      <td>0</td>\n",
       "      <td>1</td>\n",
       "      <td>0</td>\n",
       "      <td>0</td>\n",
       "    </tr>\n",
       "    <tr>\n",
       "      <th>3</th>\n",
       "      <td>0</td>\n",
       "      <td>0</td>\n",
       "      <td>1</td>\n",
       "      <td>8.0</td>\n",
       "      <td>59.0</td>\n",
       "      <td>11.0</td>\n",
       "      <td>1562</td>\n",
       "      <td>1</td>\n",
       "      <td>0</td>\n",
       "      <td>0</td>\n",
       "      <td>0</td>\n",
       "      <td>0</td>\n",
       "      <td>0</td>\n",
       "      <td>1</td>\n",
       "      <td>0</td>\n",
       "      <td>0</td>\n",
       "      <td>0</td>\n",
       "      <td>0</td>\n",
       "      <td>0</td>\n",
       "      <td>0</td>\n",
       "      <td>0</td>\n",
       "      <td>0</td>\n",
       "      <td>1</td>\n",
       "      <td>0</td>\n",
       "      <td>0</td>\n",
       "      <td>0</td>\n",
       "      <td>0</td>\n",
       "      <td>1</td>\n",
       "      <td>0</td>\n",
       "      <td>0</td>\n",
       "    </tr>\n",
       "    <tr>\n",
       "      <th>4</th>\n",
       "      <td>0</td>\n",
       "      <td>0</td>\n",
       "      <td>1</td>\n",
       "      <td>9.0</td>\n",
       "      <td>44.0</td>\n",
       "      <td>13.0</td>\n",
       "      <td>1600</td>\n",
       "      <td>1</td>\n",
       "      <td>0</td>\n",
       "      <td>0</td>\n",
       "      <td>0</td>\n",
       "      <td>0</td>\n",
       "      <td>0</td>\n",
       "      <td>1</td>\n",
       "      <td>0</td>\n",
       "      <td>0</td>\n",
       "      <td>0</td>\n",
       "      <td>0</td>\n",
       "      <td>0</td>\n",
       "      <td>0</td>\n",
       "      <td>0</td>\n",
       "      <td>0</td>\n",
       "      <td>0</td>\n",
       "      <td>1</td>\n",
       "      <td>0</td>\n",
       "      <td>0</td>\n",
       "      <td>0</td>\n",
       "      <td>1</td>\n",
       "      <td>0</td>\n",
       "      <td>0</td>\n",
       "    </tr>\n",
       "  </tbody>\n",
       "</table>\n",
       "</div>"
      ],
      "text/plain": [
       "   yr  holiday  workingday  temp   hum  windspeed   cnt  spring  summer  \\\n",
       "0   0        0           0  14.0  81.0       11.0   985       1       0   \n",
       "1   0        0           0  15.0  70.0       17.0   801       1       0   \n",
       "2   0        0           1   8.0  44.0       17.0  1349       1       0   \n",
       "3   0        0           1   8.0  59.0       11.0  1562       1       0   \n",
       "4   0        0           1   9.0  44.0       13.0  1600       1       0   \n",
       "\n",
       "   winter  august  dec  feb  jan  july  june  march  may  nov  oct  sept  \\\n",
       "0       0       0    0    0    1     0     0      0    0    0    0     0   \n",
       "1       0       0    0    0    1     0     0      0    0    0    0     0   \n",
       "2       0       0    0    0    1     0     0      0    0    0    0     0   \n",
       "3       0       0    0    0    1     0     0      0    0    0    0     0   \n",
       "4       0       0    0    0    1     0     0      0    0    0    0     0   \n",
       "\n",
       "   day 1  day 2  day 3  day 4  day 5  day 6  clear  cloudy  light_rain  \n",
       "0      0      0      0      0      0      1      0       1           0  \n",
       "1      0      0      0      0      0      0      0       1           0  \n",
       "2      1      0      0      0      0      0      1       0           0  \n",
       "3      0      1      0      0      0      0      1       0           0  \n",
       "4      0      0      1      0      0      0      1       0           0  "
      ]
     },
     "execution_count": 146,
     "metadata": {},
     "output_type": "execute_result"
    }
   ],
   "source": [
    "day.head()"
   ]
  },
  {
   "cell_type": "code",
   "execution_count": null,
   "metadata": {},
   "outputs": [],
   "source": []
  },
  {
   "cell_type": "markdown",
   "metadata": {},
   "source": [
    "## Splitting the Data into Training and Testing Sets"
   ]
  },
  {
   "cell_type": "code",
   "execution_count": 147,
   "metadata": {},
   "outputs": [],
   "source": [
    "#lets split the data into train and test as 70-30 \n",
    "\n",
    "df_train, df_test = train_test_split(day, train_size=0.7, random_state =100)"
   ]
  },
  {
   "cell_type": "code",
   "execution_count": 148,
   "metadata": {},
   "outputs": [
    {
     "data": {
      "text/plain": [
       "(510, 30)"
      ]
     },
     "execution_count": 148,
     "metadata": {},
     "output_type": "execute_result"
    }
   ],
   "source": [
    "#lets check the shape\n",
    "df_train.shape"
   ]
  },
  {
   "cell_type": "code",
   "execution_count": 149,
   "metadata": {},
   "outputs": [
    {
     "data": {
      "text/plain": [
       "(220, 30)"
      ]
     },
     "execution_count": 149,
     "metadata": {},
     "output_type": "execute_result"
    }
   ],
   "source": [
    "df_test.shape"
   ]
  },
  {
   "cell_type": "code",
   "execution_count": null,
   "metadata": {},
   "outputs": [],
   "source": []
  },
  {
   "cell_type": "markdown",
   "metadata": {},
   "source": [
    "## Rescaling the Features \n",
    "\n",
    "We will use MinMax scaling."
   ]
  },
  {
   "cell_type": "code",
   "execution_count": 150,
   "metadata": {},
   "outputs": [],
   "source": [
    "#creating a object of MinMaxScaler class\n",
    "scalar = MinMaxScaler()"
   ]
  },
  {
   "cell_type": "code",
   "execution_count": 151,
   "metadata": {},
   "outputs": [
    {
     "data": {
      "text/html": [
       "<div>\n",
       "<style scoped>\n",
       "    .dataframe tbody tr th:only-of-type {\n",
       "        vertical-align: middle;\n",
       "    }\n",
       "\n",
       "    .dataframe tbody tr th {\n",
       "        vertical-align: top;\n",
       "    }\n",
       "\n",
       "    .dataframe thead th {\n",
       "        text-align: right;\n",
       "    }\n",
       "</style>\n",
       "<table border=\"1\" class=\"dataframe\">\n",
       "  <thead>\n",
       "    <tr style=\"text-align: right;\">\n",
       "      <th></th>\n",
       "      <th>yr</th>\n",
       "      <th>holiday</th>\n",
       "      <th>workingday</th>\n",
       "      <th>temp</th>\n",
       "      <th>hum</th>\n",
       "      <th>windspeed</th>\n",
       "      <th>cnt</th>\n",
       "      <th>spring</th>\n",
       "      <th>summer</th>\n",
       "      <th>winter</th>\n",
       "      <th>august</th>\n",
       "      <th>dec</th>\n",
       "      <th>feb</th>\n",
       "      <th>jan</th>\n",
       "      <th>july</th>\n",
       "      <th>june</th>\n",
       "      <th>march</th>\n",
       "      <th>may</th>\n",
       "      <th>nov</th>\n",
       "      <th>oct</th>\n",
       "      <th>sept</th>\n",
       "      <th>day 1</th>\n",
       "      <th>day 2</th>\n",
       "      <th>day 3</th>\n",
       "      <th>day 4</th>\n",
       "      <th>day 5</th>\n",
       "      <th>day 6</th>\n",
       "      <th>clear</th>\n",
       "      <th>cloudy</th>\n",
       "      <th>light_rain</th>\n",
       "    </tr>\n",
       "  </thead>\n",
       "  <tbody>\n",
       "    <tr>\n",
       "      <th>0</th>\n",
       "      <td>0</td>\n",
       "      <td>0</td>\n",
       "      <td>0</td>\n",
       "      <td>14.0</td>\n",
       "      <td>81.0</td>\n",
       "      <td>11.0</td>\n",
       "      <td>985</td>\n",
       "      <td>1</td>\n",
       "      <td>0</td>\n",
       "      <td>0</td>\n",
       "      <td>0</td>\n",
       "      <td>0</td>\n",
       "      <td>0</td>\n",
       "      <td>1</td>\n",
       "      <td>0</td>\n",
       "      <td>0</td>\n",
       "      <td>0</td>\n",
       "      <td>0</td>\n",
       "      <td>0</td>\n",
       "      <td>0</td>\n",
       "      <td>0</td>\n",
       "      <td>0</td>\n",
       "      <td>0</td>\n",
       "      <td>0</td>\n",
       "      <td>0</td>\n",
       "      <td>0</td>\n",
       "      <td>1</td>\n",
       "      <td>0</td>\n",
       "      <td>1</td>\n",
       "      <td>0</td>\n",
       "    </tr>\n",
       "    <tr>\n",
       "      <th>1</th>\n",
       "      <td>0</td>\n",
       "      <td>0</td>\n",
       "      <td>0</td>\n",
       "      <td>15.0</td>\n",
       "      <td>70.0</td>\n",
       "      <td>17.0</td>\n",
       "      <td>801</td>\n",
       "      <td>1</td>\n",
       "      <td>0</td>\n",
       "      <td>0</td>\n",
       "      <td>0</td>\n",
       "      <td>0</td>\n",
       "      <td>0</td>\n",
       "      <td>1</td>\n",
       "      <td>0</td>\n",
       "      <td>0</td>\n",
       "      <td>0</td>\n",
       "      <td>0</td>\n",
       "      <td>0</td>\n",
       "      <td>0</td>\n",
       "      <td>0</td>\n",
       "      <td>0</td>\n",
       "      <td>0</td>\n",
       "      <td>0</td>\n",
       "      <td>0</td>\n",
       "      <td>0</td>\n",
       "      <td>0</td>\n",
       "      <td>0</td>\n",
       "      <td>1</td>\n",
       "      <td>0</td>\n",
       "    </tr>\n",
       "    <tr>\n",
       "      <th>2</th>\n",
       "      <td>0</td>\n",
       "      <td>0</td>\n",
       "      <td>1</td>\n",
       "      <td>8.0</td>\n",
       "      <td>44.0</td>\n",
       "      <td>17.0</td>\n",
       "      <td>1349</td>\n",
       "      <td>1</td>\n",
       "      <td>0</td>\n",
       "      <td>0</td>\n",
       "      <td>0</td>\n",
       "      <td>0</td>\n",
       "      <td>0</td>\n",
       "      <td>1</td>\n",
       "      <td>0</td>\n",
       "      <td>0</td>\n",
       "      <td>0</td>\n",
       "      <td>0</td>\n",
       "      <td>0</td>\n",
       "      <td>0</td>\n",
       "      <td>0</td>\n",
       "      <td>1</td>\n",
       "      <td>0</td>\n",
       "      <td>0</td>\n",
       "      <td>0</td>\n",
       "      <td>0</td>\n",
       "      <td>0</td>\n",
       "      <td>1</td>\n",
       "      <td>0</td>\n",
       "      <td>0</td>\n",
       "    </tr>\n",
       "  </tbody>\n",
       "</table>\n",
       "</div>"
      ],
      "text/plain": [
       "   yr  holiday  workingday  temp   hum  windspeed   cnt  spring  summer  \\\n",
       "0   0        0           0  14.0  81.0       11.0   985       1       0   \n",
       "1   0        0           0  15.0  70.0       17.0   801       1       0   \n",
       "2   0        0           1   8.0  44.0       17.0  1349       1       0   \n",
       "\n",
       "   winter  august  dec  feb  jan  july  june  march  may  nov  oct  sept  \\\n",
       "0       0       0    0    0    1     0     0      0    0    0    0     0   \n",
       "1       0       0    0    0    1     0     0      0    0    0    0     0   \n",
       "2       0       0    0    0    1     0     0      0    0    0    0     0   \n",
       "\n",
       "   day 1  day 2  day 3  day 4  day 5  day 6  clear  cloudy  light_rain  \n",
       "0      0      0      0      0      0      1      0       1           0  \n",
       "1      0      0      0      0      0      0      0       1           0  \n",
       "2      1      0      0      0      0      0      1       0           0  "
      ]
     },
     "execution_count": 151,
     "metadata": {},
     "output_type": "execute_result"
    }
   ],
   "source": [
    "day.head(3)"
   ]
  },
  {
   "cell_type": "code",
   "execution_count": 152,
   "metadata": {},
   "outputs": [],
   "source": [
    "#we observe that the following columns have numerical values\n",
    "num_var = ['temp','hum','windspeed','cnt']\n",
    "\n",
    "#lets scale them\n",
    "df_train[num_var] = scalar.fit_transform(df_train[num_var])"
   ]
  },
  {
   "cell_type": "code",
   "execution_count": 153,
   "metadata": {},
   "outputs": [
    {
     "data": {
      "text/html": [
       "<div>\n",
       "<style scoped>\n",
       "    .dataframe tbody tr th:only-of-type {\n",
       "        vertical-align: middle;\n",
       "    }\n",
       "\n",
       "    .dataframe tbody tr th {\n",
       "        vertical-align: top;\n",
       "    }\n",
       "\n",
       "    .dataframe thead th {\n",
       "        text-align: right;\n",
       "    }\n",
       "</style>\n",
       "<table border=\"1\" class=\"dataframe\">\n",
       "  <thead>\n",
       "    <tr style=\"text-align: right;\">\n",
       "      <th></th>\n",
       "      <th>yr</th>\n",
       "      <th>holiday</th>\n",
       "      <th>workingday</th>\n",
       "      <th>temp</th>\n",
       "      <th>hum</th>\n",
       "      <th>windspeed</th>\n",
       "      <th>cnt</th>\n",
       "      <th>spring</th>\n",
       "      <th>summer</th>\n",
       "      <th>winter</th>\n",
       "      <th>august</th>\n",
       "      <th>dec</th>\n",
       "      <th>feb</th>\n",
       "      <th>jan</th>\n",
       "      <th>july</th>\n",
       "      <th>june</th>\n",
       "      <th>march</th>\n",
       "      <th>may</th>\n",
       "      <th>nov</th>\n",
       "      <th>oct</th>\n",
       "      <th>sept</th>\n",
       "      <th>day 1</th>\n",
       "      <th>day 2</th>\n",
       "      <th>day 3</th>\n",
       "      <th>day 4</th>\n",
       "      <th>day 5</th>\n",
       "      <th>day 6</th>\n",
       "      <th>clear</th>\n",
       "      <th>cloudy</th>\n",
       "      <th>light_rain</th>\n",
       "    </tr>\n",
       "  </thead>\n",
       "  <tbody>\n",
       "    <tr>\n",
       "      <th>576</th>\n",
       "      <td>1</td>\n",
       "      <td>0</td>\n",
       "      <td>1</td>\n",
       "      <td>0.818182</td>\n",
       "      <td>0.721649</td>\n",
       "      <td>0.258065</td>\n",
       "      <td>0.827658</td>\n",
       "      <td>0</td>\n",
       "      <td>0</td>\n",
       "      <td>0</td>\n",
       "      <td>0</td>\n",
       "      <td>0</td>\n",
       "      <td>0</td>\n",
       "      <td>0</td>\n",
       "      <td>1</td>\n",
       "      <td>0</td>\n",
       "      <td>0</td>\n",
       "      <td>0</td>\n",
       "      <td>0</td>\n",
       "      <td>0</td>\n",
       "      <td>0</td>\n",
       "      <td>0</td>\n",
       "      <td>1</td>\n",
       "      <td>0</td>\n",
       "      <td>0</td>\n",
       "      <td>0</td>\n",
       "      <td>0</td>\n",
       "      <td>1</td>\n",
       "      <td>0</td>\n",
       "      <td>0</td>\n",
       "    </tr>\n",
       "    <tr>\n",
       "      <th>426</th>\n",
       "      <td>1</td>\n",
       "      <td>0</td>\n",
       "      <td>0</td>\n",
       "      <td>0.454545</td>\n",
       "      <td>0.639175</td>\n",
       "      <td>0.258065</td>\n",
       "      <td>0.465255</td>\n",
       "      <td>1</td>\n",
       "      <td>0</td>\n",
       "      <td>0</td>\n",
       "      <td>0</td>\n",
       "      <td>0</td>\n",
       "      <td>0</td>\n",
       "      <td>0</td>\n",
       "      <td>0</td>\n",
       "      <td>0</td>\n",
       "      <td>1</td>\n",
       "      <td>0</td>\n",
       "      <td>0</td>\n",
       "      <td>0</td>\n",
       "      <td>0</td>\n",
       "      <td>0</td>\n",
       "      <td>0</td>\n",
       "      <td>0</td>\n",
       "      <td>0</td>\n",
       "      <td>0</td>\n",
       "      <td>1</td>\n",
       "      <td>0</td>\n",
       "      <td>1</td>\n",
       "      <td>0</td>\n",
       "    </tr>\n",
       "    <tr>\n",
       "      <th>728</th>\n",
       "      <td>1</td>\n",
       "      <td>0</td>\n",
       "      <td>0</td>\n",
       "      <td>0.242424</td>\n",
       "      <td>0.494845</td>\n",
       "      <td>0.677419</td>\n",
       "      <td>0.204096</td>\n",
       "      <td>1</td>\n",
       "      <td>0</td>\n",
       "      <td>0</td>\n",
       "      <td>0</td>\n",
       "      <td>1</td>\n",
       "      <td>0</td>\n",
       "      <td>0</td>\n",
       "      <td>0</td>\n",
       "      <td>0</td>\n",
       "      <td>0</td>\n",
       "      <td>0</td>\n",
       "      <td>0</td>\n",
       "      <td>0</td>\n",
       "      <td>0</td>\n",
       "      <td>0</td>\n",
       "      <td>0</td>\n",
       "      <td>0</td>\n",
       "      <td>0</td>\n",
       "      <td>0</td>\n",
       "      <td>0</td>\n",
       "      <td>1</td>\n",
       "      <td>0</td>\n",
       "      <td>0</td>\n",
       "    </tr>\n",
       "    <tr>\n",
       "      <th>482</th>\n",
       "      <td>1</td>\n",
       "      <td>0</td>\n",
       "      <td>0</td>\n",
       "      <td>0.393939</td>\n",
       "      <td>0.505155</td>\n",
       "      <td>0.193548</td>\n",
       "      <td>0.482973</td>\n",
       "      <td>0</td>\n",
       "      <td>1</td>\n",
       "      <td>0</td>\n",
       "      <td>0</td>\n",
       "      <td>0</td>\n",
       "      <td>0</td>\n",
       "      <td>0</td>\n",
       "      <td>0</td>\n",
       "      <td>0</td>\n",
       "      <td>0</td>\n",
       "      <td>0</td>\n",
       "      <td>0</td>\n",
       "      <td>0</td>\n",
       "      <td>0</td>\n",
       "      <td>0</td>\n",
       "      <td>0</td>\n",
       "      <td>0</td>\n",
       "      <td>0</td>\n",
       "      <td>0</td>\n",
       "      <td>1</td>\n",
       "      <td>0</td>\n",
       "      <td>1</td>\n",
       "      <td>0</td>\n",
       "    </tr>\n",
       "    <tr>\n",
       "      <th>111</th>\n",
       "      <td>0</td>\n",
       "      <td>0</td>\n",
       "      <td>1</td>\n",
       "      <td>0.363636</td>\n",
       "      <td>0.752577</td>\n",
       "      <td>0.387097</td>\n",
       "      <td>0.191095</td>\n",
       "      <td>0</td>\n",
       "      <td>1</td>\n",
       "      <td>0</td>\n",
       "      <td>0</td>\n",
       "      <td>0</td>\n",
       "      <td>0</td>\n",
       "      <td>0</td>\n",
       "      <td>0</td>\n",
       "      <td>0</td>\n",
       "      <td>0</td>\n",
       "      <td>0</td>\n",
       "      <td>0</td>\n",
       "      <td>0</td>\n",
       "      <td>0</td>\n",
       "      <td>0</td>\n",
       "      <td>0</td>\n",
       "      <td>0</td>\n",
       "      <td>0</td>\n",
       "      <td>1</td>\n",
       "      <td>0</td>\n",
       "      <td>0</td>\n",
       "      <td>1</td>\n",
       "      <td>0</td>\n",
       "    </tr>\n",
       "  </tbody>\n",
       "</table>\n",
       "</div>"
      ],
      "text/plain": [
       "     yr  holiday  workingday      temp       hum  windspeed       cnt  spring  \\\n",
       "576   1        0           1  0.818182  0.721649   0.258065  0.827658       0   \n",
       "426   1        0           0  0.454545  0.639175   0.258065  0.465255       1   \n",
       "728   1        0           0  0.242424  0.494845   0.677419  0.204096       1   \n",
       "482   1        0           0  0.393939  0.505155   0.193548  0.482973       0   \n",
       "111   0        0           1  0.363636  0.752577   0.387097  0.191095       0   \n",
       "\n",
       "     summer  winter  august  dec  feb  jan  july  june  march  may  nov  oct  \\\n",
       "576       0       0       0    0    0    0     1     0      0    0    0    0   \n",
       "426       0       0       0    0    0    0     0     0      1    0    0    0   \n",
       "728       0       0       0    1    0    0     0     0      0    0    0    0   \n",
       "482       1       0       0    0    0    0     0     0      0    0    0    0   \n",
       "111       1       0       0    0    0    0     0     0      0    0    0    0   \n",
       "\n",
       "     sept  day 1  day 2  day 3  day 4  day 5  day 6  clear  cloudy  light_rain  \n",
       "576     0      0      1      0      0      0      0      1       0           0  \n",
       "426     0      0      0      0      0      0      1      0       1           0  \n",
       "728     0      0      0      0      0      0      0      1       0           0  \n",
       "482     0      0      0      0      0      0      1      0       1           0  \n",
       "111     0      0      0      0      0      1      0      0       1           0  "
      ]
     },
     "execution_count": 153,
     "metadata": {},
     "output_type": "execute_result"
    }
   ],
   "source": [
    "#view the data\n",
    "df_train.head()"
   ]
  },
  {
   "cell_type": "code",
   "execution_count": 154,
   "metadata": {},
   "outputs": [
    {
     "data": {
      "text/html": [
       "<div>\n",
       "<style scoped>\n",
       "    .dataframe tbody tr th:only-of-type {\n",
       "        vertical-align: middle;\n",
       "    }\n",
       "\n",
       "    .dataframe tbody tr th {\n",
       "        vertical-align: top;\n",
       "    }\n",
       "\n",
       "    .dataframe thead th {\n",
       "        text-align: right;\n",
       "    }\n",
       "</style>\n",
       "<table border=\"1\" class=\"dataframe\">\n",
       "  <thead>\n",
       "    <tr style=\"text-align: right;\">\n",
       "      <th></th>\n",
       "      <th>temp</th>\n",
       "      <th>hum</th>\n",
       "      <th>windspeed</th>\n",
       "      <th>cnt</th>\n",
       "    </tr>\n",
       "  </thead>\n",
       "  <tbody>\n",
       "    <tr>\n",
       "      <th>count</th>\n",
       "      <td>510.000000</td>\n",
       "      <td>510.000000</td>\n",
       "      <td>510.000000</td>\n",
       "      <td>510.000000</td>\n",
       "    </tr>\n",
       "    <tr>\n",
       "      <th>mean</th>\n",
       "      <td>0.548901</td>\n",
       "      <td>0.650859</td>\n",
       "      <td>0.317584</td>\n",
       "      <td>0.513499</td>\n",
       "    </tr>\n",
       "    <tr>\n",
       "      <th>std</th>\n",
       "      <td>0.226311</td>\n",
       "      <td>0.146133</td>\n",
       "      <td>0.170686</td>\n",
       "      <td>0.224421</td>\n",
       "    </tr>\n",
       "    <tr>\n",
       "      <th>min</th>\n",
       "      <td>0.000000</td>\n",
       "      <td>0.000000</td>\n",
       "      <td>0.000000</td>\n",
       "      <td>0.000000</td>\n",
       "    </tr>\n",
       "    <tr>\n",
       "      <th>25%</th>\n",
       "      <td>0.363636</td>\n",
       "      <td>0.536082</td>\n",
       "      <td>0.193548</td>\n",
       "      <td>0.356420</td>\n",
       "    </tr>\n",
       "    <tr>\n",
       "      <th>50%</th>\n",
       "      <td>0.545455</td>\n",
       "      <td>0.649485</td>\n",
       "      <td>0.290323</td>\n",
       "      <td>0.518638</td>\n",
       "    </tr>\n",
       "    <tr>\n",
       "      <th>75%</th>\n",
       "      <td>0.757576</td>\n",
       "      <td>0.752577</td>\n",
       "      <td>0.419355</td>\n",
       "      <td>0.684710</td>\n",
       "    </tr>\n",
       "    <tr>\n",
       "      <th>max</th>\n",
       "      <td>1.000000</td>\n",
       "      <td>1.000000</td>\n",
       "      <td>1.000000</td>\n",
       "      <td>1.000000</td>\n",
       "    </tr>\n",
       "  </tbody>\n",
       "</table>\n",
       "</div>"
      ],
      "text/plain": [
       "             temp         hum   windspeed         cnt\n",
       "count  510.000000  510.000000  510.000000  510.000000\n",
       "mean     0.548901    0.650859    0.317584    0.513499\n",
       "std      0.226311    0.146133    0.170686    0.224421\n",
       "min      0.000000    0.000000    0.000000    0.000000\n",
       "25%      0.363636    0.536082    0.193548    0.356420\n",
       "50%      0.545455    0.649485    0.290323    0.518638\n",
       "75%      0.757576    0.752577    0.419355    0.684710\n",
       "max      1.000000    1.000000    1.000000    1.000000"
      ]
     },
     "execution_count": 154,
     "metadata": {},
     "output_type": "execute_result"
    }
   ],
   "source": [
    "#we see that all values are between 0 and 1\n",
    "df_train[num_var].describe()"
   ]
  },
  {
   "cell_type": "code",
   "execution_count": 155,
   "metadata": {},
   "outputs": [
    {
     "data": {
      "text/html": [
       "<div>\n",
       "<style scoped>\n",
       "    .dataframe tbody tr th:only-of-type {\n",
       "        vertical-align: middle;\n",
       "    }\n",
       "\n",
       "    .dataframe tbody tr th {\n",
       "        vertical-align: top;\n",
       "    }\n",
       "\n",
       "    .dataframe thead th {\n",
       "        text-align: right;\n",
       "    }\n",
       "</style>\n",
       "<table border=\"1\" class=\"dataframe\">\n",
       "  <thead>\n",
       "    <tr style=\"text-align: right;\">\n",
       "      <th></th>\n",
       "      <th>yr</th>\n",
       "      <th>holiday</th>\n",
       "      <th>workingday</th>\n",
       "      <th>temp</th>\n",
       "      <th>hum</th>\n",
       "      <th>windspeed</th>\n",
       "      <th>cnt</th>\n",
       "      <th>spring</th>\n",
       "      <th>summer</th>\n",
       "      <th>winter</th>\n",
       "      <th>august</th>\n",
       "      <th>dec</th>\n",
       "      <th>feb</th>\n",
       "      <th>jan</th>\n",
       "      <th>july</th>\n",
       "      <th>june</th>\n",
       "      <th>march</th>\n",
       "      <th>may</th>\n",
       "      <th>nov</th>\n",
       "      <th>oct</th>\n",
       "      <th>sept</th>\n",
       "      <th>day 1</th>\n",
       "      <th>day 2</th>\n",
       "      <th>day 3</th>\n",
       "      <th>day 4</th>\n",
       "      <th>day 5</th>\n",
       "      <th>day 6</th>\n",
       "      <th>clear</th>\n",
       "      <th>cloudy</th>\n",
       "      <th>light_rain</th>\n",
       "    </tr>\n",
       "  </thead>\n",
       "  <tbody>\n",
       "    <tr>\n",
       "      <th>count</th>\n",
       "      <td>510.000000</td>\n",
       "      <td>510.000000</td>\n",
       "      <td>510.000000</td>\n",
       "      <td>510.000000</td>\n",
       "      <td>510.000000</td>\n",
       "      <td>510.000000</td>\n",
       "      <td>510.000000</td>\n",
       "      <td>510.000000</td>\n",
       "      <td>510.000000</td>\n",
       "      <td>510.000000</td>\n",
       "      <td>510.000000</td>\n",
       "      <td>510.000000</td>\n",
       "      <td>510.000000</td>\n",
       "      <td>510.000000</td>\n",
       "      <td>510.000000</td>\n",
       "      <td>510.000000</td>\n",
       "      <td>510.000000</td>\n",
       "      <td>510.000000</td>\n",
       "      <td>510.000000</td>\n",
       "      <td>510.000000</td>\n",
       "      <td>510.000000</td>\n",
       "      <td>510.000000</td>\n",
       "      <td>510.000000</td>\n",
       "      <td>510.000000</td>\n",
       "      <td>510.000000</td>\n",
       "      <td>510.000000</td>\n",
       "      <td>510.000000</td>\n",
       "      <td>510.000000</td>\n",
       "      <td>510.000000</td>\n",
       "      <td>510.000000</td>\n",
       "    </tr>\n",
       "    <tr>\n",
       "      <th>mean</th>\n",
       "      <td>0.507843</td>\n",
       "      <td>0.025490</td>\n",
       "      <td>0.676471</td>\n",
       "      <td>0.548901</td>\n",
       "      <td>0.650859</td>\n",
       "      <td>0.317584</td>\n",
       "      <td>0.513499</td>\n",
       "      <td>0.243137</td>\n",
       "      <td>0.247059</td>\n",
       "      <td>0.247059</td>\n",
       "      <td>0.096078</td>\n",
       "      <td>0.084314</td>\n",
       "      <td>0.066667</td>\n",
       "      <td>0.088235</td>\n",
       "      <td>0.076471</td>\n",
       "      <td>0.076471</td>\n",
       "      <td>0.098039</td>\n",
       "      <td>0.084314</td>\n",
       "      <td>0.086275</td>\n",
       "      <td>0.084314</td>\n",
       "      <td>0.080392</td>\n",
       "      <td>0.150980</td>\n",
       "      <td>0.131373</td>\n",
       "      <td>0.158824</td>\n",
       "      <td>0.133333</td>\n",
       "      <td>0.127451</td>\n",
       "      <td>0.154902</td>\n",
       "      <td>0.625490</td>\n",
       "      <td>0.345098</td>\n",
       "      <td>0.029412</td>\n",
       "    </tr>\n",
       "    <tr>\n",
       "      <th>std</th>\n",
       "      <td>0.500429</td>\n",
       "      <td>0.157763</td>\n",
       "      <td>0.468282</td>\n",
       "      <td>0.226311</td>\n",
       "      <td>0.146133</td>\n",
       "      <td>0.170686</td>\n",
       "      <td>0.224421</td>\n",
       "      <td>0.429398</td>\n",
       "      <td>0.431725</td>\n",
       "      <td>0.431725</td>\n",
       "      <td>0.294988</td>\n",
       "      <td>0.278131</td>\n",
       "      <td>0.249689</td>\n",
       "      <td>0.283915</td>\n",
       "      <td>0.266010</td>\n",
       "      <td>0.266010</td>\n",
       "      <td>0.297660</td>\n",
       "      <td>0.278131</td>\n",
       "      <td>0.281045</td>\n",
       "      <td>0.278131</td>\n",
       "      <td>0.272166</td>\n",
       "      <td>0.358381</td>\n",
       "      <td>0.338139</td>\n",
       "      <td>0.365870</td>\n",
       "      <td>0.340268</td>\n",
       "      <td>0.333805</td>\n",
       "      <td>0.362166</td>\n",
       "      <td>0.484471</td>\n",
       "      <td>0.475867</td>\n",
       "      <td>0.169124</td>\n",
       "    </tr>\n",
       "    <tr>\n",
       "      <th>min</th>\n",
       "      <td>0.000000</td>\n",
       "      <td>0.000000</td>\n",
       "      <td>0.000000</td>\n",
       "      <td>0.000000</td>\n",
       "      <td>0.000000</td>\n",
       "      <td>0.000000</td>\n",
       "      <td>0.000000</td>\n",
       "      <td>0.000000</td>\n",
       "      <td>0.000000</td>\n",
       "      <td>0.000000</td>\n",
       "      <td>0.000000</td>\n",
       "      <td>0.000000</td>\n",
       "      <td>0.000000</td>\n",
       "      <td>0.000000</td>\n",
       "      <td>0.000000</td>\n",
       "      <td>0.000000</td>\n",
       "      <td>0.000000</td>\n",
       "      <td>0.000000</td>\n",
       "      <td>0.000000</td>\n",
       "      <td>0.000000</td>\n",
       "      <td>0.000000</td>\n",
       "      <td>0.000000</td>\n",
       "      <td>0.000000</td>\n",
       "      <td>0.000000</td>\n",
       "      <td>0.000000</td>\n",
       "      <td>0.000000</td>\n",
       "      <td>0.000000</td>\n",
       "      <td>0.000000</td>\n",
       "      <td>0.000000</td>\n",
       "      <td>0.000000</td>\n",
       "    </tr>\n",
       "    <tr>\n",
       "      <th>25%</th>\n",
       "      <td>0.000000</td>\n",
       "      <td>0.000000</td>\n",
       "      <td>0.000000</td>\n",
       "      <td>0.363636</td>\n",
       "      <td>0.536082</td>\n",
       "      <td>0.193548</td>\n",
       "      <td>0.356420</td>\n",
       "      <td>0.000000</td>\n",
       "      <td>0.000000</td>\n",
       "      <td>0.000000</td>\n",
       "      <td>0.000000</td>\n",
       "      <td>0.000000</td>\n",
       "      <td>0.000000</td>\n",
       "      <td>0.000000</td>\n",
       "      <td>0.000000</td>\n",
       "      <td>0.000000</td>\n",
       "      <td>0.000000</td>\n",
       "      <td>0.000000</td>\n",
       "      <td>0.000000</td>\n",
       "      <td>0.000000</td>\n",
       "      <td>0.000000</td>\n",
       "      <td>0.000000</td>\n",
       "      <td>0.000000</td>\n",
       "      <td>0.000000</td>\n",
       "      <td>0.000000</td>\n",
       "      <td>0.000000</td>\n",
       "      <td>0.000000</td>\n",
       "      <td>0.000000</td>\n",
       "      <td>0.000000</td>\n",
       "      <td>0.000000</td>\n",
       "    </tr>\n",
       "    <tr>\n",
       "      <th>50%</th>\n",
       "      <td>1.000000</td>\n",
       "      <td>0.000000</td>\n",
       "      <td>1.000000</td>\n",
       "      <td>0.545455</td>\n",
       "      <td>0.649485</td>\n",
       "      <td>0.290323</td>\n",
       "      <td>0.518638</td>\n",
       "      <td>0.000000</td>\n",
       "      <td>0.000000</td>\n",
       "      <td>0.000000</td>\n",
       "      <td>0.000000</td>\n",
       "      <td>0.000000</td>\n",
       "      <td>0.000000</td>\n",
       "      <td>0.000000</td>\n",
       "      <td>0.000000</td>\n",
       "      <td>0.000000</td>\n",
       "      <td>0.000000</td>\n",
       "      <td>0.000000</td>\n",
       "      <td>0.000000</td>\n",
       "      <td>0.000000</td>\n",
       "      <td>0.000000</td>\n",
       "      <td>0.000000</td>\n",
       "      <td>0.000000</td>\n",
       "      <td>0.000000</td>\n",
       "      <td>0.000000</td>\n",
       "      <td>0.000000</td>\n",
       "      <td>0.000000</td>\n",
       "      <td>1.000000</td>\n",
       "      <td>0.000000</td>\n",
       "      <td>0.000000</td>\n",
       "    </tr>\n",
       "    <tr>\n",
       "      <th>75%</th>\n",
       "      <td>1.000000</td>\n",
       "      <td>0.000000</td>\n",
       "      <td>1.000000</td>\n",
       "      <td>0.757576</td>\n",
       "      <td>0.752577</td>\n",
       "      <td>0.419355</td>\n",
       "      <td>0.684710</td>\n",
       "      <td>0.000000</td>\n",
       "      <td>0.000000</td>\n",
       "      <td>0.000000</td>\n",
       "      <td>0.000000</td>\n",
       "      <td>0.000000</td>\n",
       "      <td>0.000000</td>\n",
       "      <td>0.000000</td>\n",
       "      <td>0.000000</td>\n",
       "      <td>0.000000</td>\n",
       "      <td>0.000000</td>\n",
       "      <td>0.000000</td>\n",
       "      <td>0.000000</td>\n",
       "      <td>0.000000</td>\n",
       "      <td>0.000000</td>\n",
       "      <td>0.000000</td>\n",
       "      <td>0.000000</td>\n",
       "      <td>0.000000</td>\n",
       "      <td>0.000000</td>\n",
       "      <td>0.000000</td>\n",
       "      <td>0.000000</td>\n",
       "      <td>1.000000</td>\n",
       "      <td>1.000000</td>\n",
       "      <td>0.000000</td>\n",
       "    </tr>\n",
       "    <tr>\n",
       "      <th>max</th>\n",
       "      <td>1.000000</td>\n",
       "      <td>1.000000</td>\n",
       "      <td>1.000000</td>\n",
       "      <td>1.000000</td>\n",
       "      <td>1.000000</td>\n",
       "      <td>1.000000</td>\n",
       "      <td>1.000000</td>\n",
       "      <td>1.000000</td>\n",
       "      <td>1.000000</td>\n",
       "      <td>1.000000</td>\n",
       "      <td>1.000000</td>\n",
       "      <td>1.000000</td>\n",
       "      <td>1.000000</td>\n",
       "      <td>1.000000</td>\n",
       "      <td>1.000000</td>\n",
       "      <td>1.000000</td>\n",
       "      <td>1.000000</td>\n",
       "      <td>1.000000</td>\n",
       "      <td>1.000000</td>\n",
       "      <td>1.000000</td>\n",
       "      <td>1.000000</td>\n",
       "      <td>1.000000</td>\n",
       "      <td>1.000000</td>\n",
       "      <td>1.000000</td>\n",
       "      <td>1.000000</td>\n",
       "      <td>1.000000</td>\n",
       "      <td>1.000000</td>\n",
       "      <td>1.000000</td>\n",
       "      <td>1.000000</td>\n",
       "      <td>1.000000</td>\n",
       "    </tr>\n",
       "  </tbody>\n",
       "</table>\n",
       "</div>"
      ],
      "text/plain": [
       "               yr     holiday  workingday        temp         hum   windspeed  \\\n",
       "count  510.000000  510.000000  510.000000  510.000000  510.000000  510.000000   \n",
       "mean     0.507843    0.025490    0.676471    0.548901    0.650859    0.317584   \n",
       "std      0.500429    0.157763    0.468282    0.226311    0.146133    0.170686   \n",
       "min      0.000000    0.000000    0.000000    0.000000    0.000000    0.000000   \n",
       "25%      0.000000    0.000000    0.000000    0.363636    0.536082    0.193548   \n",
       "50%      1.000000    0.000000    1.000000    0.545455    0.649485    0.290323   \n",
       "75%      1.000000    0.000000    1.000000    0.757576    0.752577    0.419355   \n",
       "max      1.000000    1.000000    1.000000    1.000000    1.000000    1.000000   \n",
       "\n",
       "              cnt      spring      summer      winter      august         dec  \\\n",
       "count  510.000000  510.000000  510.000000  510.000000  510.000000  510.000000   \n",
       "mean     0.513499    0.243137    0.247059    0.247059    0.096078    0.084314   \n",
       "std      0.224421    0.429398    0.431725    0.431725    0.294988    0.278131   \n",
       "min      0.000000    0.000000    0.000000    0.000000    0.000000    0.000000   \n",
       "25%      0.356420    0.000000    0.000000    0.000000    0.000000    0.000000   \n",
       "50%      0.518638    0.000000    0.000000    0.000000    0.000000    0.000000   \n",
       "75%      0.684710    0.000000    0.000000    0.000000    0.000000    0.000000   \n",
       "max      1.000000    1.000000    1.000000    1.000000    1.000000    1.000000   \n",
       "\n",
       "              feb         jan        july        june       march         may  \\\n",
       "count  510.000000  510.000000  510.000000  510.000000  510.000000  510.000000   \n",
       "mean     0.066667    0.088235    0.076471    0.076471    0.098039    0.084314   \n",
       "std      0.249689    0.283915    0.266010    0.266010    0.297660    0.278131   \n",
       "min      0.000000    0.000000    0.000000    0.000000    0.000000    0.000000   \n",
       "25%      0.000000    0.000000    0.000000    0.000000    0.000000    0.000000   \n",
       "50%      0.000000    0.000000    0.000000    0.000000    0.000000    0.000000   \n",
       "75%      0.000000    0.000000    0.000000    0.000000    0.000000    0.000000   \n",
       "max      1.000000    1.000000    1.000000    1.000000    1.000000    1.000000   \n",
       "\n",
       "              nov         oct        sept       day 1       day 2       day 3  \\\n",
       "count  510.000000  510.000000  510.000000  510.000000  510.000000  510.000000   \n",
       "mean     0.086275    0.084314    0.080392    0.150980    0.131373    0.158824   \n",
       "std      0.281045    0.278131    0.272166    0.358381    0.338139    0.365870   \n",
       "min      0.000000    0.000000    0.000000    0.000000    0.000000    0.000000   \n",
       "25%      0.000000    0.000000    0.000000    0.000000    0.000000    0.000000   \n",
       "50%      0.000000    0.000000    0.000000    0.000000    0.000000    0.000000   \n",
       "75%      0.000000    0.000000    0.000000    0.000000    0.000000    0.000000   \n",
       "max      1.000000    1.000000    1.000000    1.000000    1.000000    1.000000   \n",
       "\n",
       "            day 4       day 5       day 6       clear      cloudy  light_rain  \n",
       "count  510.000000  510.000000  510.000000  510.000000  510.000000  510.000000  \n",
       "mean     0.133333    0.127451    0.154902    0.625490    0.345098    0.029412  \n",
       "std      0.340268    0.333805    0.362166    0.484471    0.475867    0.169124  \n",
       "min      0.000000    0.000000    0.000000    0.000000    0.000000    0.000000  \n",
       "25%      0.000000    0.000000    0.000000    0.000000    0.000000    0.000000  \n",
       "50%      0.000000    0.000000    0.000000    1.000000    0.000000    0.000000  \n",
       "75%      0.000000    0.000000    0.000000    1.000000    1.000000    0.000000  \n",
       "max      1.000000    1.000000    1.000000    1.000000    1.000000    1.000000  "
      ]
     },
     "execution_count": 155,
     "metadata": {},
     "output_type": "execute_result"
    }
   ],
   "source": [
    "# lets see for the whole dataset\n",
    "df_train.describe()"
   ]
  },
  {
   "cell_type": "markdown",
   "metadata": {},
   "source": [
    "### Dividing into X(independant variable) and Y(dependant variable) sets for the model building"
   ]
  },
  {
   "cell_type": "code",
   "execution_count": 156,
   "metadata": {},
   "outputs": [],
   "source": [
    "#dependant variable \n",
    "y_train = df_train.pop('cnt')\n",
    "\n",
    "#independant variable\n",
    "X_train = df_train"
   ]
  },
  {
   "cell_type": "markdown",
   "metadata": {},
   "source": [
    "## Building our model\n",
    "\n",
    "### RFE  - Recursive Feature Elimination\n",
    "\n"
   ]
  },
  {
   "cell_type": "code",
   "execution_count": 157,
   "metadata": {},
   "outputs": [],
   "source": [
    "# Running RFE with the output number of the variable equal to 15\n",
    "#as we have decided to keep 10 or less columns in our final model lets start with 15\n",
    "#and then manually determine which are important\n",
    "\n",
    "lm = LinearRegression()\n",
    "lm.fit(X_train, y_train)\n",
    "\n",
    "rfe = RFE(lm, 15)             \n",
    "rfe = rfe.fit(X_train, y_train)"
   ]
  },
  {
   "cell_type": "code",
   "execution_count": 158,
   "metadata": {},
   "outputs": [
    {
     "data": {
      "text/plain": [
       "[('yr', True, 1),\n",
       " ('holiday', True, 1),\n",
       " ('workingday', True, 1),\n",
       " ('temp', True, 1),\n",
       " ('hum', True, 1),\n",
       " ('windspeed', True, 1),\n",
       " ('spring', False, 11),\n",
       " ('summer', False, 3),\n",
       " ('winter', True, 1),\n",
       " ('august', False, 4),\n",
       " ('dec', False, 8),\n",
       " ('feb', False, 7),\n",
       " ('jan', False, 6),\n",
       " ('july', False, 12),\n",
       " ('june', False, 13),\n",
       " ('march', False, 15),\n",
       " ('may', False, 10),\n",
       " ('nov', False, 9),\n",
       " ('oct', False, 14),\n",
       " ('sept', False, 2),\n",
       " ('day 1', True, 1),\n",
       " ('day 2', True, 1),\n",
       " ('day 3', True, 1),\n",
       " ('day 4', True, 1),\n",
       " ('day 5', True, 1),\n",
       " ('day 6', False, 5),\n",
       " ('clear', True, 1),\n",
       " ('cloudy', True, 1),\n",
       " ('light_rain', True, 1)]"
      ]
     },
     "execution_count": 158,
     "metadata": {},
     "output_type": "execute_result"
    }
   ],
   "source": [
    "list(zip(X_train.columns,rfe.support_,rfe.ranking_))"
   ]
  },
  {
   "cell_type": "code",
   "execution_count": 159,
   "metadata": {},
   "outputs": [
    {
     "data": {
      "text/plain": [
       "Index(['yr', 'holiday', 'workingday', 'temp', 'hum', 'windspeed', 'winter',\n",
       "       'day 1', 'day 2', 'day 3', 'day 4', 'day 5', 'clear', 'cloudy',\n",
       "       'light_rain'],\n",
       "      dtype='object')"
      ]
     },
     "execution_count": 159,
     "metadata": {},
     "output_type": "execute_result"
    }
   ],
   "source": [
    "#the choosen columns\n",
    "col = X_train.columns[rfe.support_]\n",
    "col"
   ]
  },
  {
   "cell_type": "code",
   "execution_count": 160,
   "metadata": {},
   "outputs": [
    {
     "data": {
      "text/plain": [
       "Index(['spring', 'summer', 'august', 'dec', 'feb', 'jan', 'july', 'june',\n",
       "       'march', 'may', 'nov', 'oct', 'sept', 'day 6'],\n",
       "      dtype='object')"
      ]
     },
     "execution_count": 160,
     "metadata": {},
     "output_type": "execute_result"
    }
   ],
   "source": [
    "#the discarded columns\n",
    "X_train.columns[~rfe.support_]"
   ]
  },
  {
   "cell_type": "code",
   "execution_count": null,
   "metadata": {},
   "outputs": [],
   "source": []
  },
  {
   "cell_type": "markdown",
   "metadata": {},
   "source": [
    "### Building model using statsmodel, for the detailed statistics"
   ]
  },
  {
   "cell_type": "code",
   "execution_count": 161,
   "metadata": {},
   "outputs": [],
   "source": [
    "# Creating X_test dataframe with RFE selected variables\n",
    "X_train_sm = X_train[col]\n",
    "\n",
    "#adding constant for the intercept \n"
   ]
  },
  {
   "cell_type": "code",
   "execution_count": 162,
   "metadata": {},
   "outputs": [],
   "source": [
    "#function to run the linear model and get the statistic summary \n",
    "def fit_lr(x,y):\n",
    "    \n",
    "    #running the linear model\n",
    "    lr = sm.OLS(y,x)\n",
    "    lr_model = lr.fit()\n",
    "    #printing the summary of the model \n",
    "    print(lr_model.summary())\n",
    "    return(lr_model)"
   ]
  },
  {
   "cell_type": "code",
   "execution_count": 163,
   "metadata": {},
   "outputs": [],
   "source": [
    "#function to calculate vif\n",
    "def check_vif(x):\n",
    "    x = x.drop(['const'], axis=1)\n",
    "    vif = pd.DataFrame()\n",
    "    vif['Features'] = x.columns\n",
    "    vif['VIF'] = [variance_inflation_factor(x.values,i) for i in range(x.shape[1])]\n",
    "    vif['VIF'] = round(vif['VIF'],2)\n",
    "    vif = vif.sort_values(by = 'VIF',ascending=False)\n",
    "    print(vif)"
   ]
  },
  {
   "cell_type": "markdown",
   "metadata": {},
   "source": [
    "lets keep this a guideline to keep or remove the column\n",
    "- high pvalue   high vif    remove first\n",
    "- high pvalue   low vif     remove second\n",
    "- low  pvalue   high vif    remove third\n",
    "- low  pvalue   low vif     keep the column   "
   ]
  },
  {
   "cell_type": "code",
   "execution_count": 164,
   "metadata": {},
   "outputs": [
    {
     "name": "stdout",
     "output_type": "stream",
     "text": [
      "                            OLS Regression Results                            \n",
      "==============================================================================\n",
      "Dep. Variable:                    cnt   R-squared:                       0.804\n",
      "Model:                            OLS   Adj. R-squared:                  0.799\n",
      "Method:                 Least Squares   F-statistic:                     156.9\n",
      "Date:                Mon, 04 Jan 2021   Prob (F-statistic):          2.90e-166\n",
      "Time:                        20:48:57   Log-Likelihood:                 455.03\n",
      "No. Observations:                 510   AIC:                            -882.1\n",
      "Df Residuals:                     496   BIC:                            -822.8\n",
      "Df Model:                          13                                         \n",
      "Covariance Type:            nonrobust                                         \n",
      "==============================================================================\n",
      "                 coef    std err          t      P>|t|      [0.025      0.975]\n",
      "------------------------------------------------------------------------------\n",
      "const          0.0779      0.027      2.856      0.004       0.024       0.131\n",
      "yr             0.2297      0.009     25.397      0.000       0.212       0.247\n",
      "holiday       -0.0682      0.026     -2.666      0.008      -0.118      -0.018\n",
      "workingday     0.0259      0.009      3.006      0.003       0.009       0.043\n",
      "temp           0.6021      0.022     27.581      0.000       0.559       0.645\n",
      "hum           -0.1430      0.041     -3.446      0.001      -0.224      -0.061\n",
      "windspeed     -0.1695      0.028     -6.015      0.000      -0.225      -0.114\n",
      "winter         0.1128      0.011     10.216      0.000       0.091       0.134\n",
      "day 1         -0.0173      0.011     -1.604      0.109      -0.038       0.004\n",
      "day 2         -0.0159      0.012     -1.284      0.200      -0.040       0.008\n",
      "day 3      -6.948e-05      0.012     -0.006      0.995      -0.023       0.023\n",
      "day 4         -0.0076      0.012     -0.637      0.524      -0.031       0.016\n",
      "day 5         -0.0015      0.012     -0.121      0.904      -0.026       0.023\n",
      "clear          0.1212      0.009     13.024      0.000       0.103       0.140\n",
      "cloudy         0.0732      0.013      5.809      0.000       0.048       0.098\n",
      "light_rain    -0.1165      0.024     -4.768      0.000      -0.164      -0.068\n",
      "==============================================================================\n",
      "Omnibus:                       38.831   Durbin-Watson:                   1.975\n",
      "Prob(Omnibus):                  0.000   Jarque-Bera (JB):               82.431\n",
      "Skew:                          -0.436   Prob(JB):                     1.26e-18\n",
      "Kurtosis:                       4.766   Cond. No.                     1.72e+16\n",
      "==============================================================================\n",
      "\n",
      "Warnings:\n",
      "[1] Standard Errors assume that the covariance matrix of the errors is correctly specified.\n",
      "[2] The smallest eigenvalue is 5.68e-30. This might indicate that there are\n",
      "strong multicollinearity problems or that the design matrix is singular.\n",
      "      Features    VIF\n",
      "1      holiday    inf\n",
      "2   workingday    inf\n",
      "7        day 1    inf\n",
      "8        day 2    inf\n",
      "9        day 3    inf\n",
      "10       day 4    inf\n",
      "11       day 5    inf\n",
      "12       clear  29.43\n",
      "13      cloudy  22.66\n",
      "14  light_rain   3.45\n",
      "4          hum   1.85\n",
      "3         temp   1.23\n",
      "5    windspeed   1.17\n",
      "6       winter   1.14\n",
      "0           yr   1.03\n"
     ]
    }
   ],
   "source": [
    "#checking the statistics for the columns we got from RFE\n",
    "fit_lr(X_train_sm,y_train)\n",
    "check_vif(X_train_sm)"
   ]
  },
  {
   "cell_type": "code",
   "execution_count": 165,
   "metadata": {},
   "outputs": [
    {
     "name": "stdout",
     "output_type": "stream",
     "text": [
      "                            OLS Regression Results                            \n",
      "==============================================================================\n",
      "Dep. Variable:                    cnt   R-squared:                       0.804\n",
      "Model:                            OLS   Adj. R-squared:                  0.799\n",
      "Method:                 Least Squares   F-statistic:                     156.9\n",
      "Date:                Mon, 04 Jan 2021   Prob (F-statistic):          2.90e-166\n",
      "Time:                        20:48:57   Log-Likelihood:                 455.03\n",
      "No. Observations:                 510   AIC:                            -882.1\n",
      "Df Residuals:                     496   BIC:                            -822.8\n",
      "Df Model:                          13                                         \n",
      "Covariance Type:            nonrobust                                         \n",
      "==============================================================================\n",
      "                 coef    std err          t      P>|t|      [0.025      0.975]\n",
      "------------------------------------------------------------------------------\n",
      "const          0.0779      0.027      2.856      0.004       0.024       0.131\n",
      "yr             0.2297      0.009     25.397      0.000       0.212       0.247\n",
      "holiday       -0.0683      0.033     -2.092      0.037      -0.132      -0.004\n",
      "workingday     0.0258      0.014      1.855      0.064      -0.002       0.053\n",
      "temp           0.6021      0.022     27.581      0.000       0.559       0.645\n",
      "hum           -0.1430      0.041     -3.446      0.001      -0.224      -0.061\n",
      "windspeed     -0.1695      0.028     -6.015      0.000      -0.225      -0.114\n",
      "winter         0.1128      0.011     10.216      0.000       0.091       0.134\n",
      "day 1         -0.0172      0.017     -1.042      0.298      -0.050       0.015\n",
      "day 2         -0.0158      0.017     -0.948      0.344      -0.049       0.017\n",
      "day 4         -0.0076      0.017     -0.456      0.648      -0.040       0.025\n",
      "day 5         -0.0014      0.017     -0.084      0.933      -0.035       0.032\n",
      "clear          0.1212      0.009     13.024      0.000       0.103       0.140\n",
      "cloudy         0.0732      0.013      5.809      0.000       0.048       0.098\n",
      "light_rain    -0.1165      0.024     -4.768      0.000      -0.164      -0.068\n",
      "==============================================================================\n",
      "Omnibus:                       38.831   Durbin-Watson:                   1.975\n",
      "Prob(Omnibus):                  0.000   Jarque-Bera (JB):               82.431\n",
      "Skew:                          -0.436   Prob(JB):                     1.26e-18\n",
      "Kurtosis:                       4.766   Cond. No.                     6.40e+15\n",
      "==============================================================================\n",
      "\n",
      "Warnings:\n",
      "[1] Standard Errors assume that the covariance matrix of the errors is correctly specified.\n",
      "[2] The smallest eigenvalue is 4.06e-29. This might indicate that there are\n",
      "strong multicollinearity problems or that the design matrix is singular.\n",
      "      Features    VIF\n",
      "11       clear  29.43\n",
      "12      cloudy  22.66\n",
      "13  light_rain   3.45\n",
      "2   workingday   2.14\n",
      "4          hum   1.85\n",
      "7        day 1   1.76\n",
      "8        day 2   1.60\n",
      "9        day 4   1.60\n",
      "10       day 5   1.60\n",
      "1      holiday   1.33\n",
      "3         temp   1.23\n",
      "5    windspeed   1.17\n",
      "6       winter   1.14\n",
      "0           yr   1.03\n"
     ]
    }
   ],
   "source": [
    "#we observe that 'day 3' has high p_value= 0.995 and very high VIF = inf\n",
    "#so lets drop that column \n",
    "X_train_new = X_train_sm.drop([\"day 3\"], axis = 1)\n",
    "\n",
    "#now lets see how the model is \n",
    "lr_model = fit_lr(X_train_new,y_train)\n",
    "check_vif(X_train_new)"
   ]
  },
  {
   "cell_type": "code",
   "execution_count": 166,
   "metadata": {},
   "outputs": [
    {
     "name": "stdout",
     "output_type": "stream",
     "text": [
      "                            OLS Regression Results                            \n",
      "==============================================================================\n",
      "Dep. Variable:                    cnt   R-squared:                       0.804\n",
      "Model:                            OLS   Adj. R-squared:                  0.800\n",
      "Method:                 Least Squares   F-statistic:                     170.4\n",
      "Date:                Mon, 04 Jan 2021   Prob (F-statistic):          2.19e-167\n",
      "Time:                        20:48:57   Log-Likelihood:                 455.02\n",
      "No. Observations:                 510   AIC:                            -884.0\n",
      "Df Residuals:                     497   BIC:                            -829.0\n",
      "Df Model:                          12                                         \n",
      "Covariance Type:            nonrobust                                         \n",
      "==============================================================================\n",
      "                 coef    std err          t      P>|t|      [0.025      0.975]\n",
      "------------------------------------------------------------------------------\n",
      "const          0.0778      0.027      2.857      0.004       0.024       0.131\n",
      "yr             0.2297      0.009     25.428      0.000       0.212       0.247\n",
      "holiday       -0.0690      0.032     -2.187      0.029      -0.131      -0.007\n",
      "workingday     0.0252      0.012      2.150      0.032       0.002       0.048\n",
      "temp           0.6021      0.022     27.609      0.000       0.559       0.645\n",
      "hum           -0.1428      0.041     -3.449      0.001      -0.224      -0.061\n",
      "windspeed     -0.1695      0.028     -6.020      0.000      -0.225      -0.114\n",
      "winter         0.1128      0.011     10.226      0.000       0.091       0.134\n",
      "day 1         -0.0166      0.015     -1.130      0.259      -0.045       0.012\n",
      "day 2         -0.0152      0.015     -1.021      0.308      -0.044       0.014\n",
      "day 4         -0.0069      0.015     -0.469      0.639      -0.036       0.022\n",
      "clear          0.1212      0.009     13.055      0.000       0.103       0.139\n",
      "cloudy         0.0730      0.013      5.838      0.000       0.048       0.098\n",
      "light_rain    -0.1164      0.024     -4.776      0.000      -0.164      -0.068\n",
      "==============================================================================\n",
      "Omnibus:                       38.980   Durbin-Watson:                   1.975\n",
      "Prob(Omnibus):                  0.000   Jarque-Bera (JB):               82.659\n",
      "Skew:                          -0.438   Prob(JB):                     1.12e-18\n",
      "Kurtosis:                       4.767   Cond. No.                     9.89e+15\n",
      "==============================================================================\n",
      "\n",
      "Warnings:\n",
      "[1] Standard Errors assume that the covariance matrix of the errors is correctly specified.\n",
      "[2] The smallest eigenvalue is 1.69e-29. This might indicate that there are\n",
      "strong multicollinearity problems or that the design matrix is singular.\n",
      "      Features    VIF\n",
      "10       clear  29.39\n",
      "11      cloudy  22.60\n",
      "12  light_rain   3.45\n",
      "4          hum   1.85\n",
      "2   workingday   1.52\n",
      "7        day 1   1.39\n",
      "9        day 4   1.28\n",
      "8        day 2   1.27\n",
      "1      holiday   1.25\n",
      "3         temp   1.23\n",
      "5    windspeed   1.17\n",
      "6       winter   1.14\n",
      "0           yr   1.03\n"
     ]
    }
   ],
   "source": [
    "#we see that day 5 has high p_value = 0.933, so lets drop it even thought VIF is 1.60\n",
    "X_train_new = X_train_new.drop([\"day 5\"], axis = 1)\n",
    "#checking the statistics for the columns new columns\n",
    "lr_model = fit_lr(X_train_new,y_train)\n",
    "check_vif(X_train_new)"
   ]
  },
  {
   "cell_type": "code",
   "execution_count": 167,
   "metadata": {},
   "outputs": [
    {
     "name": "stdout",
     "output_type": "stream",
     "text": [
      "                            OLS Regression Results                            \n",
      "==============================================================================\n",
      "Dep. Variable:                    cnt   R-squared:                       0.804\n",
      "Model:                            OLS   Adj. R-squared:                  0.800\n",
      "Method:                 Least Squares   F-statistic:                     186.1\n",
      "Date:                Mon, 04 Jan 2021   Prob (F-statistic):          1.74e-168\n",
      "Time:                        20:48:57   Log-Likelihood:                 454.91\n",
      "No. Observations:                 510   AIC:                            -885.8\n",
      "Df Residuals:                     498   BIC:                            -835.0\n",
      "Df Model:                          11                                         \n",
      "Covariance Type:            nonrobust                                         \n",
      "==============================================================================\n",
      "                 coef    std err          t      P>|t|      [0.025      0.975]\n",
      "------------------------------------------------------------------------------\n",
      "const          0.0777      0.027      2.855      0.004       0.024       0.131\n",
      "yr             0.2297      0.009     25.447      0.000       0.212       0.247\n",
      "holiday       -0.0717      0.031     -2.318      0.021      -0.133      -0.011\n",
      "workingday     0.0230      0.011      2.144      0.032       0.002       0.044\n",
      "temp           0.6022      0.022     27.636      0.000       0.559       0.645\n",
      "hum           -0.1426      0.041     -3.448      0.001      -0.224      -0.061\n",
      "windspeed     -0.1695      0.028     -6.027      0.000      -0.225      -0.114\n",
      "winter         0.1127      0.011     10.228      0.000       0.091       0.134\n",
      "day 1         -0.0143      0.014     -1.034      0.302      -0.041       0.013\n",
      "day 2         -0.0130      0.014     -0.921      0.358      -0.041       0.015\n",
      "clear          0.1211      0.009     13.059      0.000       0.103       0.139\n",
      "cloudy         0.0732      0.012      5.860      0.000       0.049       0.098\n",
      "light_rain    -0.1166      0.024     -4.790      0.000      -0.164      -0.069\n",
      "==============================================================================\n",
      "Omnibus:                       39.174   Durbin-Watson:                   1.973\n",
      "Prob(Omnibus):                  0.000   Jarque-Bera (JB):               82.691\n",
      "Skew:                          -0.442   Prob(JB):                     1.11e-18\n",
      "Kurtosis:                       4.764   Cond. No.                     1.14e+16\n",
      "==============================================================================\n",
      "\n",
      "Warnings:\n",
      "[1] Standard Errors assume that the covariance matrix of the errors is correctly specified.\n",
      "[2] The smallest eigenvalue is 1.26e-29. This might indicate that there are\n",
      "strong multicollinearity problems or that the design matrix is singular.\n",
      "      Features    VIF\n",
      "9        clear  29.39\n",
      "10      cloudy  22.60\n",
      "11  light_rain   3.45\n",
      "4          hum   1.85\n",
      "2   workingday   1.27\n",
      "7        day 1   1.24\n",
      "3         temp   1.23\n",
      "1      holiday   1.20\n",
      "5    windspeed   1.17\n",
      "8        day 2   1.15\n",
      "6       winter   1.14\n",
      "0           yr   1.03\n"
     ]
    }
   ],
   "source": [
    "#we see that day 4 has high p_value = 0.639, so lets drop it even thought VIF is 1.28\n",
    "X_train_new = X_train_new.drop([\"day 4\"], axis = 1)\n",
    "\n",
    "#checking the statistics for the columns new columns\n",
    "lr_model = fit_lr(X_train_new,y_train)\n",
    "check_vif(X_train_new)\n"
   ]
  },
  {
   "cell_type": "code",
   "execution_count": 168,
   "metadata": {},
   "outputs": [
    {
     "name": "stdout",
     "output_type": "stream",
     "text": [
      "                            OLS Regression Results                            \n",
      "==============================================================================\n",
      "Dep. Variable:                    cnt   R-squared:                       0.804\n",
      "Model:                            OLS   Adj. R-squared:                  0.800\n",
      "Method:                 Least Squares   F-statistic:                     204.7\n",
      "Date:                Mon, 04 Jan 2021   Prob (F-statistic):          1.81e-169\n",
      "Time:                        20:48:57   Log-Likelihood:                 454.48\n",
      "No. Observations:                 510   AIC:                            -887.0\n",
      "Df Residuals:                     499   BIC:                            -840.4\n",
      "Df Model:                          10                                         \n",
      "Covariance Type:            nonrobust                                         \n",
      "==============================================================================\n",
      "                 coef    std err          t      P>|t|      [0.025      0.975]\n",
      "------------------------------------------------------------------------------\n",
      "const          0.0788      0.027      2.899      0.004       0.025       0.132\n",
      "yr             0.2297      0.009     25.450      0.000       0.212       0.247\n",
      "holiday       -0.0740      0.031     -2.401      0.017      -0.135      -0.013\n",
      "workingday     0.0198      0.010      1.954      0.051      -0.000       0.040\n",
      "temp           0.6018      0.022     27.627      0.000       0.559       0.645\n",
      "hum           -0.1435      0.041     -3.471      0.001      -0.225      -0.062\n",
      "windspeed     -0.1701      0.028     -6.050      0.000      -0.225      -0.115\n",
      "winter         0.1126      0.011     10.219      0.000       0.091       0.134\n",
      "day 1         -0.0113      0.013     -0.840      0.401      -0.038       0.015\n",
      "clear          0.1209      0.009     13.047      0.000       0.103       0.139\n",
      "cloudy         0.0733      0.012      5.863      0.000       0.049       0.098\n",
      "light_rain    -0.1154      0.024     -4.748      0.000      -0.163      -0.068\n",
      "==============================================================================\n",
      "Omnibus:                       39.048   Durbin-Watson:                   1.970\n",
      "Prob(Omnibus):                  0.000   Jarque-Bera (JB):               83.482\n",
      "Skew:                          -0.436   Prob(JB):                     7.45e-19\n",
      "Kurtosis:                       4.780   Cond. No.                     2.29e+15\n",
      "==============================================================================\n",
      "\n",
      "Warnings:\n",
      "[1] Standard Errors assume that the covariance matrix of the errors is correctly specified.\n",
      "[2] The smallest eigenvalue is 3.12e-28. This might indicate that there are\n",
      "strong multicollinearity problems or that the design matrix is singular.\n",
      "      Features    VIF\n",
      "8        clear  29.35\n",
      "9       cloudy  22.57\n",
      "10  light_rain   3.44\n",
      "4          hum   1.85\n",
      "3         temp   1.23\n",
      "1      holiday   1.20\n",
      "7        day 1   1.17\n",
      "5    windspeed   1.16\n",
      "2   workingday   1.14\n",
      "6       winter   1.14\n",
      "0           yr   1.03\n"
     ]
    }
   ],
   "source": [
    "#we see that day 2 has high p_value = 0.358, so lets drop it even thought VIF is 1.15\n",
    "X_train_new = X_train_new.drop([\"day 2\"], axis = 1)\n",
    "\n",
    "#checking the statistics for the columns new columns\n",
    "lr_model = fit_lr(X_train_new,y_train)\n",
    "check_vif(X_train_new)"
   ]
  },
  {
   "cell_type": "code",
   "execution_count": 169,
   "metadata": {},
   "outputs": [
    {
     "name": "stdout",
     "output_type": "stream",
     "text": [
      "                            OLS Regression Results                            \n",
      "==============================================================================\n",
      "Dep. Variable:                    cnt   R-squared:                       0.804\n",
      "Model:                            OLS   Adj. R-squared:                  0.800\n",
      "Method:                 Least Squares   F-statistic:                     227.5\n",
      "Date:                Mon, 04 Jan 2021   Prob (F-statistic):          1.66e-170\n",
      "Time:                        20:48:57   Log-Likelihood:                 454.12\n",
      "No. Observations:                 510   AIC:                            -888.2\n",
      "Df Residuals:                     500   BIC:                            -845.9\n",
      "Df Model:                           9                                         \n",
      "Covariance Type:            nonrobust                                         \n",
      "==============================================================================\n",
      "                 coef    std err          t      P>|t|      [0.025      0.975]\n",
      "------------------------------------------------------------------------------\n",
      "const          0.0796      0.027      2.929      0.004       0.026       0.133\n",
      "yr             0.2292      0.009     25.454      0.000       0.212       0.247\n",
      "holiday       -0.0826      0.029     -2.842      0.005      -0.140      -0.026\n",
      "workingday     0.0176      0.010      1.798      0.073      -0.002       0.037\n",
      "temp           0.6024      0.022     27.679      0.000       0.560       0.645\n",
      "hum           -0.1448      0.041     -3.505      0.000      -0.226      -0.064\n",
      "windspeed     -0.1704      0.028     -6.061      0.000      -0.226      -0.115\n",
      "winter         0.1123      0.011     10.204      0.000       0.091       0.134\n",
      "clear          0.1210      0.009     13.055      0.000       0.103       0.139\n",
      "cloudy         0.0735      0.012      5.883      0.000       0.049       0.098\n",
      "light_rain    -0.1149      0.024     -4.729      0.000      -0.163      -0.067\n",
      "==============================================================================\n",
      "Omnibus:                       38.417   Durbin-Watson:                   1.974\n",
      "Prob(Omnibus):                  0.000   Jarque-Bera (JB):               82.682\n",
      "Skew:                          -0.427   Prob(JB):                     1.11e-18\n",
      "Kurtosis:                       4.779   Cond. No.                     6.46e+15\n",
      "==============================================================================\n",
      "\n",
      "Warnings:\n",
      "[1] Standard Errors assume that the covariance matrix of the errors is correctly specified.\n",
      "[2] The smallest eigenvalue is 3.89e-29. This might indicate that there are\n",
      "strong multicollinearity problems or that the design matrix is singular.\n",
      "     Features    VIF\n",
      "7       clear  29.32\n",
      "8      cloudy  22.55\n",
      "9  light_rain   3.44\n",
      "4         hum   1.84\n",
      "3        temp   1.23\n",
      "5   windspeed   1.16\n",
      "6      winter   1.14\n",
      "2  workingday   1.07\n",
      "1     holiday   1.06\n",
      "0          yr   1.03\n"
     ]
    }
   ],
   "source": [
    "#we see that day 1 has high p_value = 0.401, so lets drop it even thought VIF is 1.17\n",
    "X_train_new = X_train_new.drop([\"day 1\"], axis = 1)\n",
    "\n",
    "#checking the statistics for the columns new columns\n",
    "lr_model = fit_lr(X_train_new,y_train)\n",
    "check_vif(X_train_new)"
   ]
  },
  {
   "cell_type": "code",
   "execution_count": 170,
   "metadata": {},
   "outputs": [
    {
     "name": "stdout",
     "output_type": "stream",
     "text": [
      "                            OLS Regression Results                            \n",
      "==============================================================================\n",
      "Dep. Variable:                    cnt   R-squared:                       0.802\n",
      "Model:                            OLS   Adj. R-squared:                  0.799\n",
      "Method:                 Least Squares   F-statistic:                     254.4\n",
      "Date:                Mon, 04 Jan 2021   Prob (F-statistic):          5.02e-171\n",
      "Time:                        20:48:57   Log-Likelihood:                 452.47\n",
      "No. Observations:                 510   AIC:                            -886.9\n",
      "Df Residuals:                     501   BIC:                            -848.8\n",
      "Df Model:                           8                                         \n",
      "Covariance Type:            nonrobust                                         \n",
      "==============================================================================\n",
      "                 coef    std err          t      P>|t|      [0.025      0.975]\n",
      "------------------------------------------------------------------------------\n",
      "const          0.0892      0.027      3.341      0.001       0.037       0.142\n",
      "yr             0.2296      0.009     25.449      0.000       0.212       0.247\n",
      "holiday       -0.0944      0.028     -3.325      0.001      -0.150      -0.039\n",
      "temp           0.6041      0.022     27.720      0.000       0.561       0.647\n",
      "hum           -0.1455      0.041     -3.513      0.000      -0.227      -0.064\n",
      "windspeed     -0.1721      0.028     -6.112      0.000      -0.227      -0.117\n",
      "winter         0.1115      0.011     10.114      0.000       0.090       0.133\n",
      "clear          0.1233      0.009     13.412      0.000       0.105       0.141\n",
      "cloudy         0.0767      0.012      6.188      0.000       0.052       0.101\n",
      "light_rain    -0.1108      0.024     -4.572      0.000      -0.158      -0.063\n",
      "==============================================================================\n",
      "Omnibus:                       42.958   Durbin-Watson:                   1.972\n",
      "Prob(Omnibus):                  0.000   Jarque-Bera (JB):               86.053\n",
      "Skew:                          -0.501   Prob(JB):                     2.06e-19\n",
      "Kurtosis:                       4.745   Cond. No.                     1.04e+16\n",
      "==============================================================================\n",
      "\n",
      "Warnings:\n",
      "[1] Standard Errors assume that the covariance matrix of the errors is correctly specified.\n",
      "[2] The smallest eigenvalue is 1.27e-29. This might indicate that there are\n",
      "strong multicollinearity problems or that the design matrix is singular.\n",
      "     Features    VIF\n",
      "6       clear  27.92\n",
      "7      cloudy  21.66\n",
      "8  light_rain   3.35\n",
      "3         hum   1.84\n",
      "2        temp   1.22\n",
      "4   windspeed   1.16\n",
      "5      winter   1.14\n",
      "0          yr   1.03\n",
      "1     holiday   1.01\n"
     ]
    }
   ],
   "source": [
    "#we see that working has high p_value = 0.073, so lets drop it even thought VIF is 1.07\n",
    "X_train_new = X_train_new.drop([\"workingday\"], axis = 1)\n",
    "\n",
    "#checking the statistics for the columns \n",
    "lr_model = fit_lr(X_train_new,y_train)\n",
    "check_vif(X_train_new)"
   ]
  },
  {
   "cell_type": "code",
   "execution_count": 171,
   "metadata": {},
   "outputs": [],
   "source": [
    "#now we observe that all pvalues are less than 0.05 but some columns have very high VIF\n",
    "#so lets handle those, we can drop those column if they dont affect our r_square much \n"
   ]
  },
  {
   "cell_type": "code",
   "execution_count": 172,
   "metadata": {},
   "outputs": [
    {
     "name": "stdout",
     "output_type": "stream",
     "text": [
      "                            OLS Regression Results                            \n",
      "==============================================================================\n",
      "Dep. Variable:                    cnt   R-squared:                       0.802\n",
      "Model:                            OLS   Adj. R-squared:                  0.799\n",
      "Method:                 Least Squares   F-statistic:                     254.4\n",
      "Date:                Mon, 04 Jan 2021   Prob (F-statistic):          5.02e-171\n",
      "Time:                        20:48:58   Log-Likelihood:                 452.47\n",
      "No. Observations:                 510   AIC:                            -886.9\n",
      "Df Residuals:                     501   BIC:                            -848.8\n",
      "Df Model:                           8                                         \n",
      "Covariance Type:            nonrobust                                         \n",
      "==============================================================================\n",
      "                 coef    std err          t      P>|t|      [0.025      0.975]\n",
      "------------------------------------------------------------------------------\n",
      "const          0.2125      0.030      7.144      0.000       0.154       0.271\n",
      "yr             0.2296      0.009     25.449      0.000       0.212       0.247\n",
      "holiday       -0.0944      0.028     -3.325      0.001      -0.150      -0.039\n",
      "temp           0.6041      0.022     27.720      0.000       0.561       0.647\n",
      "hum           -0.1455      0.041     -3.513      0.000      -0.227      -0.064\n",
      "windspeed     -0.1721      0.028     -6.112      0.000      -0.227      -0.117\n",
      "winter         0.1115      0.011     10.114      0.000       0.090       0.133\n",
      "cloudy        -0.0467      0.012     -4.012      0.000      -0.070      -0.024\n",
      "light_rain    -0.2341      0.029     -8.001      0.000      -0.292      -0.177\n",
      "==============================================================================\n",
      "Omnibus:                       42.958   Durbin-Watson:                   1.972\n",
      "Prob(Omnibus):                  0.000   Jarque-Bera (JB):               86.053\n",
      "Skew:                          -0.501   Prob(JB):                     2.06e-19\n",
      "Kurtosis:                       4.745   Cond. No.                         18.0\n",
      "==============================================================================\n",
      "\n",
      "Warnings:\n",
      "[1] Standard Errors assume that the covariance matrix of the errors is correctly specified.\n",
      "     Features    VIF\n",
      "3         hum  14.32\n",
      "2        temp   7.95\n",
      "4   windspeed   3.37\n",
      "6      cloudy   2.11\n",
      "0          yr   2.01\n",
      "5      winter   1.51\n",
      "7  light_rain   1.16\n",
      "1     holiday   1.04\n"
     ]
    }
   ],
   "source": [
    "#lets remove clear also if it doesnt affect our accuracy much\n",
    "X_train_new = X_train_new.drop([\"clear\"], axis = 1)\n",
    "lr_model = fit_lr(X_train_new,y_train)\n",
    "check_vif(X_train_new)"
   ]
  },
  {
   "cell_type": "code",
   "execution_count": 173,
   "metadata": {},
   "outputs": [
    {
     "name": "stdout",
     "output_type": "stream",
     "text": [
      "                            OLS Regression Results                            \n",
      "==============================================================================\n",
      "Dep. Variable:                    cnt   R-squared:                       0.798\n",
      "Model:                            OLS   Adj. R-squared:                  0.795\n",
      "Method:                 Least Squares   F-statistic:                     282.6\n",
      "Date:                Mon, 04 Jan 2021   Prob (F-statistic):          1.26e-169\n",
      "Time:                        20:48:58   Log-Likelihood:                 446.27\n",
      "No. Observations:                 510   AIC:                            -876.5\n",
      "Df Residuals:                     502   BIC:                            -842.7\n",
      "Df Model:                           7                                         \n",
      "Covariance Type:            nonrobust                                         \n",
      "==============================================================================\n",
      "                 coef    std err          t      P>|t|      [0.025      0.975]\n",
      "------------------------------------------------------------------------------\n",
      "const          0.1297      0.018      7.068      0.000       0.094       0.166\n",
      "yr             0.2329      0.009     25.671      0.000       0.215       0.251\n",
      "holiday       -0.0958      0.029     -3.335      0.001      -0.152      -0.039\n",
      "temp           0.5837      0.021     27.477      0.000       0.542       0.625\n",
      "windspeed     -0.1443      0.027     -5.281      0.000      -0.198      -0.091\n",
      "winter         0.1040      0.011      9.509      0.000       0.083       0.125\n",
      "cloudy        -0.0702      0.010     -7.309      0.000      -0.089      -0.051\n",
      "light_rain    -0.2742      0.027    -10.059      0.000      -0.328      -0.221\n",
      "==============================================================================\n",
      "Omnibus:                       40.995   Durbin-Watson:                   1.960\n",
      "Prob(Omnibus):                  0.000   Jarque-Bera (JB):               78.524\n",
      "Skew:                          -0.495   Prob(JB):                     8.89e-18\n",
      "Kurtosis:                       4.648   Cond. No.                         10.0\n",
      "==============================================================================\n",
      "\n",
      "Warnings:\n",
      "[1] Standard Errors assume that the covariance matrix of the errors is correctly specified.\n",
      "     Features   VIF\n",
      "2        temp  3.18\n",
      "3   windspeed  2.88\n",
      "0          yr  2.00\n",
      "5      cloudy  1.46\n",
      "4      winter  1.26\n",
      "6  light_rain  1.08\n",
      "1     holiday  1.03\n"
     ]
    }
   ],
   "source": [
    "#lets remove hum also if it doesnt affect our accuracy much\n",
    "X_train_new = X_train_new.drop([\"hum\"], axis = 1)\n",
    "lr_model = fit_lr(X_train_new,y_train)\n",
    "check_vif(X_train_new)"
   ]
  },
  {
   "cell_type": "code",
   "execution_count": 174,
   "metadata": {},
   "outputs": [],
   "source": [
    "#we observe that now all the columns have pvalue < 0.5 and all vif are < 5 \n",
    "#we observe that Prob (F-statistic) is very small, hence the overall fit to the model is significant. "
   ]
  },
  {
   "cell_type": "markdown",
   "metadata": {},
   "source": [
    "## Residual Analysis of the train data"
   ]
  },
  {
   "cell_type": "code",
   "execution_count": 175,
   "metadata": {},
   "outputs": [],
   "source": [
    "y_train_pred = lr_model.predict(X_train_new)"
   ]
  },
  {
   "cell_type": "code",
   "execution_count": 176,
   "metadata": {},
   "outputs": [
    {
     "data": {
      "text/plain": [
       "Text(0.5,0,'Errors')"
      ]
     },
     "execution_count": 176,
     "metadata": {},
     "output_type": "execute_result"
    },
    {
     "data": {
      "image/png": "[encoded data removed]",
      "text/plain": [
       "<Figure size 432x288 with 1 Axes>"
      ]
     },
     "metadata": {
      "needs_background": "light"
     },
     "output_type": "display_data"
    }
   ],
   "source": [
    "# Plot the histogram of the error terms\n",
    "fig = plt.figure()\n",
    "sns.distplot((y_train - y_train_pred), bins = 20)\n",
    "fig.suptitle('Error Terms', fontsize = 20)                  \n",
    "plt.xlabel('Errors', fontsize = 18)  \n",
    "\n",
    "#we observe that the error terms are normally distributed with mean at 0"
   ]
  },
  {
   "cell_type": "code",
   "execution_count": 177,
   "metadata": {},
   "outputs": [
    {
     "data": {
      "text/plain": [
       "3.552713678800501e-15"
      ]
     },
     "execution_count": 177,
     "metadata": {},
     "output_type": "execute_result"
    }
   ],
   "source": [
    "sum_of_residuals = y_train - y_train_pred\n",
    "sum_of_residuals.sum()\n",
    "\n",
    "#we see the sum of very small and can be approximated to zero. "
   ]
  },
  {
   "cell_type": "markdown",
   "metadata": {},
   "source": [
    "## Making Predictions"
   ]
  },
  {
   "cell_type": "markdown",
   "metadata": {},
   "source": [
    "#### Applying the scaling on the test sets"
   ]
  },
  {
   "cell_type": "code",
   "execution_count": 178,
   "metadata": {},
   "outputs": [],
   "source": [
    "#we observe that the following columns have numerical values\n",
    "num_var = ['temp','hum','windspeed','cnt']\n",
    "\n",
    "#lets scale them\n",
    "df_test[num_var] = scalar.transform(df_test[num_var])"
   ]
  },
  {
   "cell_type": "markdown",
   "metadata": {},
   "source": [
    "#### Dividing into X_test and y_test"
   ]
  },
  {
   "cell_type": "code",
   "execution_count": 179,
   "metadata": {},
   "outputs": [],
   "source": [
    "y_test = df_test.pop('cnt')\n",
    "X_test = df_test"
   ]
  },
  {
   "cell_type": "code",
   "execution_count": 180,
   "metadata": {},
   "outputs": [],
   "source": [
    "# Now let's use our model to make predictions.\n",
    "\n",
    "# Adding a constant variable \n",
    "X_test_new = sm.add_constant(X_test)"
   ]
  },
  {
   "cell_type": "code",
   "execution_count": 181,
   "metadata": {},
   "outputs": [],
   "source": [
    "X_test_new = X_test_new[X_train_new.columns]"
   ]
  },
  {
   "cell_type": "code",
   "execution_count": 182,
   "metadata": {},
   "outputs": [],
   "source": [
    "# Making predictions\n",
    "y_test_pred = lr_model.predict(X_test_new)"
   ]
  },
  {
   "cell_type": "code",
   "execution_count": null,
   "metadata": {},
   "outputs": [],
   "source": []
  },
  {
   "cell_type": "code",
   "execution_count": 183,
   "metadata": {},
   "outputs": [
    {
     "data": {
      "text/plain": [
       "0.7723381864625006"
      ]
     },
     "execution_count": 183,
     "metadata": {},
     "output_type": "execute_result"
    }
   ],
   "source": [
    "#test set\n",
    "r2_score(y_true= y_test, y_pred=y_test_pred)"
   ]
  },
  {
   "cell_type": "code",
   "execution_count": null,
   "metadata": {},
   "outputs": [],
   "source": []
  },
  {
   "cell_type": "markdown",
   "metadata": {},
   "source": [
    "## Model Evaluation"
   ]
  },
  {
   "cell_type": "code",
   "execution_count": 184,
   "metadata": {},
   "outputs": [
    {
     "data": {
      "text/plain": [
       "Text(0,0.5,'y__test_pred')"
      ]
     },
     "execution_count": 184,
     "metadata": {},
     "output_type": "execute_result"
    },
    {
     "data": {
      "image/png": "[encoded data removed]",
      "text/plain": [
       "<Figure size 432x288 with 1 Axes>"
      ]
     },
     "metadata": {
      "needs_background": "light"
     },
     "output_type": "display_data"
    }
   ],
   "source": [
    "# Plotting y_test and y_pred to understand the spread.\n",
    "fig = plt.figure()\n",
    "plt.scatter(y_test,y_test_pred)\n",
    "fig.suptitle('y_test vs y_pred', fontsize=20)              # Plot heading \n",
    "plt.xlabel('y_test', fontsize=18)                          # X-label\n",
    "plt.ylabel('y__test_pred', fontsize=16)                          # Y-label\n",
    "\n",
    "# we observe that the error terms are independent and have constant variance"
   ]
  },
  {
   "cell_type": "markdown",
   "metadata": {},
   "source": [
    "\n",
    "We can see that the equation of our best fitted line is:\n",
    "\n",
    "$ cnt = 0.5837  \\times  temp + 0.2329  \\times  yr + (-0.0958) \\times holiday + (-0.1443) \\times windspeed + 0.1040 \\times winter + (-0.0702) \\times cloudy + (-0.2742) \\times light rain  + 0.1297 $\n"
   ]
  },
  {
   "cell_type": "code",
   "execution_count": 185,
   "metadata": {},
   "outputs": [
    {
     "data": {
      "text/plain": [
       "0.7976004877931668"
      ]
     },
     "execution_count": 185,
     "metadata": {},
     "output_type": "execute_result"
    }
   ],
   "source": [
    "#train set\n",
    "r2_score(y_true= y_train, y_pred=y_train_pred)"
   ]
  },
  {
   "cell_type": "code",
   "execution_count": 186,
   "metadata": {},
   "outputs": [
    {
     "data": {
      "text/plain": [
       "0.7723381864625006"
      ]
     },
     "execution_count": 186,
     "metadata": {},
     "output_type": "execute_result"
    }
   ],
   "source": [
    "#test set\n",
    "r2_score(y_true= y_test, y_pred=y_test_pred)"
   ]
  },
  {
   "cell_type": "markdown",
   "metadata": {},
   "source": [
    "with \n",
    "- train r_score being 0.79\n",
    "- test r_score being 0.77"
   ]
  },
  {
   "cell_type": "code",
   "execution_count": null,
   "metadata": {},
   "outputs": [],
   "source": []
  }
 ],
 "metadata": {
  "kernelspec": {
   "display_name": "Python 3",
   "language": "python",
   "name": "python3"
  },
  "language_info": {
   "codemirror_mode": {
    "name": "ipython",
    "version": 3
   },
   "file_extension": ".py",
   "mimetype": "text/x-python",
   "name": "python",
   "nbconvert_exporter": "python",
   "pygments_lexer": "ipython3",
   "version": "3.7.0"
  }
 },
 "nbformat": 4,
 "nbformat_minor": 2
}
